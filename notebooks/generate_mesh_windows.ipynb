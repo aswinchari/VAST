{
 "cells": [
  {
   "cell_type": "code",
   "execution_count": 2,
   "metadata": {},
   "outputs": [],
   "source": [
    "#calculate windows on the mesh"
   ]
  },
  {
   "cell_type": "code",
   "execution_count": 6,
   "metadata": {},
   "outputs": [],
   "source": [
    "import os\n",
    "import surface_tools as st\n",
    "import numpy as np"
   ]
  },
  {
   "cell_type": "code",
   "execution_count": 2,
   "metadata": {},
   "outputs": [],
   "source": [
    "surf_dir='../surface_data/obj_surfaces/'\n",
    "padl_dir='../../PADL/data/raw'\n",
    "#all civet meshes have the same topology, so only need to calculate this once.\n",
    "white_surf=os.path.join(surf_dir,'white_left.obj')"
   ]
  },
  {
   "cell_type": "code",
   "execution_count": 3,
   "metadata": {},
   "outputs": [],
   "source": [
    "windows=st.get_windows(white_surf)"
   ]
  },
  {
   "cell_type": "code",
   "execution_count": 4,
   "metadata": {},
   "outputs": [
    {
     "data": {
      "text/plain": [
       "array([[459136,  65731,  61664, ..., 114883, 246210,  61665],\n",
       "       [127171, 508290, 121059, ..., 121057, 483775, 483778],\n",
       "       [ 78017, 311680, 188611, ..., 344577,  40962, 163843],\n",
       "       ...,\n",
       "       [614782, 614783, 655358, ..., 483777, 483772,  38496],\n",
       "       [483771, 483767,  30321, ..., 614784, 153792, 655355],\n",
       "       [483771, 483772, 655358, ..., 483776,      1, 614782]])"
      ]
     },
     "execution_count": 4,
     "metadata": {},
     "output_type": "execute_result"
    }
   ],
   "source": [
    "windows"
   ]
  },
  {
   "cell_type": "code",
   "execution_count": 7,
   "metadata": {},
   "outputs": [],
   "source": [
    "np.savetxt(os.path.join(padl_dir,'windows.txt'),windows,fmt='%i')"
   ]
  },
  {
   "cell_type": "code",
   "execution_count": null,
   "metadata": {},
   "outputs": [],
   "source": []
  }
 ],
 "metadata": {
  "kernelspec": {
   "display_name": "padl",
   "language": "python",
   "name": "padl"
  },
  "language_info": {
   "codemirror_mode": {
    "name": "ipython",
    "version": 3
   },
   "file_extension": ".py",
   "mimetype": "text/x-python",
   "name": "python",
   "nbconvert_exporter": "python",
   "pygments_lexer": "ipython3",
   "version": "3.7.4"
  }
 },
 "nbformat": 4,
 "nbformat_minor": 2
}
