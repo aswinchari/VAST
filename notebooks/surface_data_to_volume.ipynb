{
 "cells": [
  {
   "cell_type": "code",
   "execution_count": 11,
   "metadata": {},
   "outputs": [],
   "source": [
    "import numpy as np\n",
    "import vast.io_mesh as io\n",
    "import vast.surface_tools as st\n",
    "import matplotlib.pyplot as plt\n",
    "%matplotlib inline"
   ]
  },
  {
   "cell_type": "code",
   "execution_count": 51,
   "metadata": {},
   "outputs": [],
   "source": [
    "def generate_prism(g_coords,w_coords,triangle):\n",
    "    \"\"\"return coordinates for prism in a dictionary\n",
    "    with two triangles\n",
    "    ordering is g1,g2,g3 - w1,w2,w3\"\"\"\n",
    "    prism_coordinates={'g_triangle':g_coords[triangle],'w_triangle':w_coords[triangle]}\n",
    "    return prism_coordinates\n",
    "\n",
    "def prism_bounding_box(prism):\n",
    "    \"\"\"returns the two defining corners of a box enclosing the prism.\n",
    "    i.e. the minimum and maximum values in the 3 dimensions.\"\"\"\n",
    "    return bounding_box(np.vstack((prism['g_triangle'],prism['w_triangle'])))\n",
    "\n",
    "def bounding_box(coords):\n",
    "    \"\"\"calculate bounding box for input coordinates\"\"\"\n",
    "    mins=np.min(coords,axis=0)\n",
    "    maxs=np.max(coords,axis=0)\n",
    "    return mins, maxs\n",
    "\n",
    "def voxel_world_coords_in_box(box, origin_offset, voxel_resolution, dimensions):\n",
    "    \"\"\"calculate which voxels from a block/slice/volume are located a box (world coordinates)\n",
    "    returns coordinates of voxels and voxel indices\n",
    "    Assumes axis orderings of box, origin_offset, voxel resolution and dimensions are all the same\n",
    "    Usually xyz\"\"\"\n",
    "    #calculate box corners in voxel indices. Ensure voxel coordinates are non-negative and do not\n",
    "    #exceed volume limits\n",
    "    indices_min = np.min((np.max((np.floor((box[0] - origin_offset)/resolution),[0,0,0]),axis=0),dimensions),axis=0).astype(int)\n",
    "    indices_max = np.min((np.max((np.ceil((box[1]- origin_offset)/resolution), [0,0,0]), axis=0),dimensions), axis=0).astype(int)\n",
    "    if (indices_min == indices_max).all():\n",
    "        #box not in volume block.\n",
    "        #TODO test subsequent functionality\n",
    "        return None, None\n",
    "    \n",
    "    #get a grid of coordinates\n",
    "    voxel_coordinates=np.mgrid[indices_min[0]:indices_max[0],\n",
    "         indices_min[1]:indices_max[1],\n",
    "        indices_min[2]:indices_max[2]].T\n",
    "    voxel_coordinates = np.reshape(voxel_coordinates,(voxel_coordinates.size//3,3))\n",
    "    #convert to world coordinates\n",
    "    world_coordinates=origin_offset+voxel_coordinates*resolution\n",
    "    return world_coordinates, voxel_coordinates.astype(int)\n",
    "\n",
    "def get_exact_depth(voxel_coord, prism, decimals=5):\n",
    "    \"\"\"returns exact coortical depth of point\n",
    "    \n",
    "    due to imprecisions in estimating roots of the cubic, it is advisable to round to desired accuracy.\n",
    "    for 3mm cortex, decimals=5 gives an accuracy of 30 nanometers\"\"\"\n",
    "    #solve for depth\n",
    "    connecting_vectors = prism['w_triangle']-prism['g_triangle']\n",
    "    connecting_inplane_vectors = np.array([connecting_vectors[2]-connecting_vectors[0],\n",
    "                                           connecting_vectors[1]-connecting_vectors[0]])\n",
    "    #k2 term of cp\n",
    "    cross_product_connecting_vectors = np.cross(connecting_inplane_vectors[0],connecting_inplane_vectors[1])\n",
    "\n",
    "    gray_inplane_vectors = np.array([prism['g_triangle'][2]-prism['g_triangle'][0],\n",
    "                                     prism['g_triangle'][1]-prism['g_triangle'][0]])\n",
    "    #const term of cp\n",
    "    cross_product_gray_inplane_vectors = np.cross(gray_inplane_vectors[0],gray_inplane_vectors[1])\n",
    "\n",
    "    #k term of cp\n",
    "    cross_prod_gray_connecting1 = np.cross(gray_inplane_vectors[1], connecting_inplane_vectors[0])\n",
    "    cross_prod_gray_connecting2 = np.cross(gray_inplane_vectors[0], connecting_inplane_vectors[1])\n",
    "    cross_prod_gray_connecting_sum = -cross_prod_gray_connecting1+cross_prod_gray_connecting2\n",
    "\n",
    "    g3 = prism['g_triangle'][2]\n",
    "    v3 = connecting_vectors[2]\n",
    "\n",
    "    k3 = np.dot(cross_product_connecting_vectors,v3)\n",
    "    k2 = (np.dot(v3,cross_prod_gray_connecting_sum)+\n",
    "         np.dot(cross_product_connecting_vectors,g3-voxel_coord))\n",
    "    k1 = (np.dot(v3, cross_product_gray_inplane_vectors) +\n",
    "         np.dot(cross_prod_gray_connecting_sum,g3-voxel_coord))\n",
    "    k0 = (np.dot(cross_product_gray_inplane_vectors,g3-voxel_coord))\n",
    "    depths = np.roots([k3,k2,k1,k0])\n",
    "    depths = np.round(depths[np.isreal(depths)],decimals=decimals)\n",
    "    depths = depths[np.logical_and(depths>=0,depths<=1.0)]\n",
    "\n",
    "    return depths\n",
    "\n",
    "\n",
    "def get_exact_depth_multiple_coordinates(voxel_coords,prism,decimals=5):\n",
    "    \"\"\"returns exact coortical depth of point\n",
    "    \n",
    "    due to imprecisions in estimating roots of the cubic, it is advisable to round to desired accuracy.\n",
    "    for 3mm cortex, decimals=5 gives an accuracy of 30 nanometers\"\"\"\n",
    "    #solve for depth\n",
    "    connecting_vectors = prism['w_triangle']-prism['g_triangle']\n",
    "    connecting_inplane_vectors = np.array([connecting_vectors[2]-connecting_vectors[0],\n",
    "                                           connecting_vectors[1]-connecting_vectors[0]])\n",
    "    #k2 term of cp\n",
    "    cross_product_connecting_vectors = np.cross(connecting_inplane_vectors[0],connecting_inplane_vectors[1])\n",
    "\n",
    "    gray_inplane_vectors = np.array([prism['g_triangle'][2]-prism['g_triangle'][0],\n",
    "                                     prism['g_triangle'][1]-prism['g_triangle'][0]])\n",
    "    #const term of cp\n",
    "    cross_product_gray_inplane_vectors = np.cross(gray_inplane_vectors[0],gray_inplane_vectors[1])\n",
    "\n",
    "    #k term of cp\n",
    "    cross_prod_gray_connecting1 = np.cross(gray_inplane_vectors[1], connecting_inplane_vectors[0])\n",
    "    cross_prod_gray_connecting2 = np.cross(gray_inplane_vectors[0], connecting_inplane_vectors[1])\n",
    "    cross_prod_gray_connecting_sum = -cross_prod_gray_connecting1+cross_prod_gray_connecting2\n",
    "\n",
    "    g3 = prism['g_triangle'][2]\n",
    "    v3 = connecting_vectors[2]\n",
    "\n",
    "    k3 = np.dot(cross_product_connecting_vectors,v3)\n",
    "    all_depths=np.zeros(len(voxel_coords))\n",
    "    for k, voxel_coord in enumerate(voxel_coords):\n",
    "        k2 = (np.dot(v3,cross_prod_gray_connecting_sum)+\n",
    "         np.dot(cross_product_connecting_vectors,g3-voxel_coord))\n",
    "        k1 = (np.dot(v3, cross_product_gray_inplane_vectors) +\n",
    "         np.dot(cross_prod_gray_connecting_sum,g3-voxel_coord))\n",
    "        k0 = (np.dot(cross_product_gray_inplane_vectors,g3-voxel_coord))\n",
    "        depths = np.roots([k3,k2,k1,k0])\n",
    "        depths = np.round(depths[np.isreal(depths)],decimals=decimals)\n",
    "        depths = depths[np.logical_and(depths>=0,depths<=1.0)]\n",
    "        if len(depths)==0:\n",
    "            all_depths[k]=float('NaN')\n",
    "        else:\n",
    "            all_depths[k]=depths[0]\n",
    "    return all_depths\n",
    "\n",
    "\n",
    "def barycentric_coordinates(p,tri):\n",
    "    #solve to return coordinates as barycentric from 3 vertices of triangle.\n",
    "    #Use outputs for linear interpolation\n",
    "    a = (np.square(tri[0,0]-tri[2,0]) + np.square(tri[0,1]-tri[2,1]) + np.square(tri[0,2]-tri[2,2]))\n",
    "    b = (tri[1,0]-tri[2,0])*(tri[0,0]-tri[2,0]) + (tri[1,1]-tri[2,1])*(tri[0,1]-tri[2,1]) + (tri[1,2]-tri[2,2])*(tri[0,2]-tri[2,2])\n",
    "    c = b\n",
    "    d = (np.square(tri[1,0]-tri[2,0]) + np.square(tri[1,1]-tri[2,1]) + np.square(tri[1,2]-tri[2,2]))\n",
    "    f = (p[0] - tri[2,0])*(tri[0,0]-tri[2,0]) + (p[1]-tri[2,1])*(tri[0,1]-tri[2,1]) + (p[2]-tri[2,2])*(tri[0,2]-tri[2,2])\n",
    "    g = (p[0] - tri[2,0])*(tri[1,0]-tri[2,0]) + (p[1]-tri[2,1])*(tri[1,1]-tri[2,1]) + (p[2]-tri[2,2])*(tri[1,2]-tri[2,2])\n",
    "    chi = (d*f - b*g)/(a*d - b*c)\n",
    "    eta = (-c*f + a*g)/(a*d - b*c)\n",
    "    lambda1 = chi\n",
    "    lambda2 = eta\n",
    "    lambda3 = 1 - chi - eta\n",
    "    return lambda1, lambda2, lambda3\n",
    "\n",
    "def get_depth_and_barycentric_coordinates(world_coords,voxel_coords,prism):\n",
    "    \"\"\"calculate the precise depth and barycentric coordinates within a prism\n",
    "    of all world coordinates\n",
    "    depth - fractional depth from gray to white surface\n",
    "    barycentric - fractional distance from each vertex in triangle\"\"\"\n",
    "    depths = get_exact_depth_multiple_coordinates(world_coords,prism)\n",
    "    #filter out coordinates not in the right depth\n",
    "    world_coords = world_coords[~np.isnan(depths)]\n",
    "    voxel_coords = voxel_coords[~np.isnan(depths)]\n",
    "    depths=depths[~np.isnan(depths)]\n",
    "    #calculate barycentric coordinates for remaining voxels\n",
    "    vector=prism['w_triangle']-prism['g_triangle']\n",
    "    barycentric_coords = np.zeros((len(depths),3))\n",
    "    for k, (world_coord, depth) in enumerate(zip(world_coords,depths)):\n",
    "        barycentric_coords[k] = barycentric_coordinates(world_coord, depth*vector +prism['g_triangle'])\n",
    "    #filter out coordinates outside of triangle\n",
    "    \n",
    "    exclude=np.logical_or(np.any(barycentric_coords<0,axis=1),np.any(barycentric_coords>1,axis=1))\n",
    "    world_coords = world_coords[~exclude]\n",
    "    voxel_coords = voxel_coords[~exclude]\n",
    "    depths=depths[~exclude]\n",
    "    barycentric_coords=barycentric_coords[~exclude]\n",
    "    return world_coords, voxel_coords, depths, barycentric_coords"
   ]
  },
  {
   "cell_type": "code",
   "execution_count": 53,
   "metadata": {},
   "outputs": [
    {
     "ename": "IndexError",
     "evalue": "boolean index did not match indexed array along dimension 0; dimension is 163842 but corresponding boolean dimension is 655362",
     "output_type": "error",
     "traceback": [
      "\u001b[0;31m---------------------------------------------------------------------------\u001b[0m",
      "\u001b[0;31mIndexError\u001b[0m                                Traceback (most recent call last)",
      "\u001b[0;32m<ipython-input-53-332f12ce375e>\u001b[0m in \u001b[0;36m<module>\u001b[0;34m\u001b[0m\n\u001b[1;32m      5\u001b[0m \u001b[0;34m\u001b[0m\u001b[0m\n\u001b[1;32m      6\u001b[0m \u001b[0mroi\u001b[0m\u001b[0;34m=\u001b[0m\u001b[0mnp\u001b[0m\u001b[0;34m.\u001b[0m\u001b[0mloadtxt\u001b[0m\u001b[0;34m(\u001b[0m\u001b[0;34m'../surface_data/area_labels/v1_left_tidied.txt'\u001b[0m\u001b[0;34m)\u001b[0m\u001b[0;34m\u001b[0m\u001b[0;34m\u001b[0m\u001b[0m\n\u001b[0;32m----> 7\u001b[0;31m \u001b[0mall_v1_coords\u001b[0m\u001b[0;34m=\u001b[0m\u001b[0mg_surf\u001b[0m\u001b[0;34m[\u001b[0m\u001b[0;34m'coords'\u001b[0m\u001b[0;34m]\u001b[0m\u001b[0;34m[\u001b[0m\u001b[0mroi\u001b[0m\u001b[0;34m==\u001b[0m\u001b[0;36m1\u001b[0m\u001b[0;34m]\u001b[0m\u001b[0;34m\u001b[0m\u001b[0;34m\u001b[0m\u001b[0m\n\u001b[0m\u001b[1;32m      8\u001b[0m \u001b[0mblock_bbox\u001b[0m \u001b[0;34m=\u001b[0m \u001b[0mbounding_box\u001b[0m\u001b[0;34m(\u001b[0m\u001b[0mall_v1_coords\u001b[0m\u001b[0;34m)\u001b[0m\u001b[0;34m\u001b[0m\u001b[0;34m\u001b[0m\u001b[0m\n\u001b[1;32m      9\u001b[0m \u001b[0;34m\u001b[0m\u001b[0m\n",
      "\u001b[0;31mIndexError\u001b[0m: boolean index did not match indexed array along dimension 0; dimension is 163842 but corresponding boolean dimension is 655362"
     ]
    }
   ],
   "source": [
    "#origin_offset=[-70.66, -72.51, -58.77778]\n",
    "resolution=[0.1,0.1,0.1]\n",
    "g_surf = io.load_mesh_geometry('../surface_data/obj_surfaces/gray_left_rsl_327680.obj')\n",
    "w_surf = io.load_mesh_geometry('../surface_data/obj_surfaces/white_left_rsl_327680.obj')\n",
    "\n",
    "\n",
    "#dimensions\n",
    "#block"
   ]
  },
  {
   "cell_type": "code",
   "execution_count": 57,
   "metadata": {},
   "outputs": [],
   "source": [
    "roi=np.loadtxt('../surface_data/area_labels/v1_left_tidied.txt')[:len(g_surf['coords'])]\n",
    "all_v1_coords=g_surf['coords'][roi==1]\n",
    "block_bbox = bounding_box(all_v1_coords)\n",
    "dimensions = (block_bbox[1]-block_bbox[0])/resolution\n",
    "origin_offset = block_bbox[0]\n",
    "#TODO calculate origin offset "
   ]
  },
  {
   "cell_type": "code",
   "execution_count": 58,
   "metadata": {},
   "outputs": [
    {
     "data": {
      "text/plain": [
       "array([311.853 , 430.422 , 243.2181])"
      ]
     },
     "execution_count": 58,
     "metadata": {},
     "output_type": "execute_result"
    }
   ],
   "source": [
    "dimensions"
   ]
  },
  {
   "cell_type": "code",
   "execution_count": 50,
   "metadata": {},
   "outputs": [
    {
     "data": {
      "text/plain": [
       "\u001b[0;31mSignature:\u001b[0m \u001b[0mvt\u001b[0m\u001b[0;34m.\u001b[0m\u001b[0mbbox2\u001b[0m\u001b[0;34m(\u001b[0m\u001b[0mimg\u001b[0m\u001b[0;34m)\u001b[0m\u001b[0;34m\u001b[0m\u001b[0;34m\u001b[0m\u001b[0m\n",
       "\u001b[0;31mDocstring:\u001b[0m <no docstring>\n",
       "\u001b[0;31mSource:\u001b[0m   \n",
       "\u001b[0;32mdef\u001b[0m \u001b[0mbbox2\u001b[0m\u001b[0;34m(\u001b[0m\u001b[0mimg\u001b[0m\u001b[0;34m)\u001b[0m\u001b[0;34m:\u001b[0m\u001b[0;34m\u001b[0m\n",
       "\u001b[0;34m\u001b[0m    \u001b[0mrows\u001b[0m \u001b[0;34m=\u001b[0m \u001b[0mnp\u001b[0m\u001b[0;34m.\u001b[0m\u001b[0many\u001b[0m\u001b[0;34m(\u001b[0m\u001b[0mimg\u001b[0m\u001b[0;34m,\u001b[0m \u001b[0maxis\u001b[0m\u001b[0;34m=\u001b[0m\u001b[0;36m1\u001b[0m\u001b[0;34m)\u001b[0m\u001b[0;34m\u001b[0m\n",
       "\u001b[0;34m\u001b[0m    \u001b[0mcols\u001b[0m \u001b[0;34m=\u001b[0m \u001b[0mnp\u001b[0m\u001b[0;34m.\u001b[0m\u001b[0many\u001b[0m\u001b[0;34m(\u001b[0m\u001b[0mimg\u001b[0m\u001b[0;34m,\u001b[0m \u001b[0maxis\u001b[0m\u001b[0;34m=\u001b[0m\u001b[0;36m0\u001b[0m\u001b[0;34m)\u001b[0m\u001b[0;34m\u001b[0m\n",
       "\u001b[0;34m\u001b[0m    \u001b[0mrmin\u001b[0m\u001b[0;34m,\u001b[0m \u001b[0mrmax\u001b[0m \u001b[0;34m=\u001b[0m \u001b[0mnp\u001b[0m\u001b[0;34m.\u001b[0m\u001b[0mwhere\u001b[0m\u001b[0;34m(\u001b[0m\u001b[0mrows\u001b[0m\u001b[0;34m)\u001b[0m\u001b[0;34m[\u001b[0m\u001b[0;36m0\u001b[0m\u001b[0;34m]\u001b[0m\u001b[0;34m[\u001b[0m\u001b[0;34m[\u001b[0m\u001b[0;36m0\u001b[0m\u001b[0;34m,\u001b[0m \u001b[0;34m-\u001b[0m\u001b[0;36m1\u001b[0m\u001b[0;34m]\u001b[0m\u001b[0;34m]\u001b[0m\u001b[0;34m\u001b[0m\n",
       "\u001b[0;34m\u001b[0m    \u001b[0mcmin\u001b[0m\u001b[0;34m,\u001b[0m \u001b[0mcmax\u001b[0m \u001b[0;34m=\u001b[0m \u001b[0mnp\u001b[0m\u001b[0;34m.\u001b[0m\u001b[0mwhere\u001b[0m\u001b[0;34m(\u001b[0m\u001b[0mcols\u001b[0m\u001b[0;34m)\u001b[0m\u001b[0;34m[\u001b[0m\u001b[0;36m0\u001b[0m\u001b[0;34m]\u001b[0m\u001b[0;34m[\u001b[0m\u001b[0;34m[\u001b[0m\u001b[0;36m0\u001b[0m\u001b[0;34m,\u001b[0m \u001b[0;34m-\u001b[0m\u001b[0;36m1\u001b[0m\u001b[0;34m]\u001b[0m\u001b[0;34m]\u001b[0m\u001b[0;34m\u001b[0m\n",
       "\u001b[0;34m\u001b[0m    \u001b[0;34m\u001b[0m\n",
       "\u001b[0;34m\u001b[0m    \u001b[0;32mreturn\u001b[0m \u001b[0mrmin\u001b[0m\u001b[0;34m,\u001b[0m  \u001b[0mcmin\u001b[0m\u001b[0;34m,\u001b[0m \u001b[0mrmax\u001b[0m\u001b[0;34m,\u001b[0m \u001b[0mcmax\u001b[0m\u001b[0;34m\u001b[0m\u001b[0;34m\u001b[0m\u001b[0m\n",
       "\u001b[0;31mFile:\u001b[0m      /data1/bigbrain/VAST/vast/volume_tools.py\n",
       "\u001b[0;31mType:\u001b[0m      function\n"
      ]
     },
     "metadata": {},
     "output_type": "display_data"
    }
   ],
   "source": [
    "from vast import volume_tools as vt\n"
   ]
  },
  {
   "cell_type": "code",
   "execution_count": 52,
   "metadata": {},
   "outputs": [
    {
     "ename": "KeyboardInterrupt",
     "evalue": "",
     "output_type": "error",
     "traceback": [
      "\u001b[0;31m---------------------------------------------------------------------------\u001b[0m",
      "\u001b[0;31mKeyboardInterrupt\u001b[0m                         Traceback (most recent call last)",
      "\u001b[0;32m<ipython-input-52-e15a7d63a8eb>\u001b[0m in \u001b[0;36m<module>\u001b[0;34m\u001b[0m\n\u001b[1;32m      9\u001b[0m     \u001b[0mworld_coords\u001b[0m\u001b[0;34m,\u001b[0m \u001b[0mvoxel_coords\u001b[0m\u001b[0;34m=\u001b[0m \u001b[0mvoxel_world_coords_in_box\u001b[0m\u001b[0;34m(\u001b[0m\u001b[0mbbox\u001b[0m\u001b[0;34m,\u001b[0m\u001b[0morigin_offset\u001b[0m\u001b[0;34m,\u001b[0m \u001b[0mresolution\u001b[0m\u001b[0;34m,\u001b[0m \u001b[0mdimensions\u001b[0m\u001b[0;34m)\u001b[0m\u001b[0;34m\u001b[0m\u001b[0;34m\u001b[0m\u001b[0m\n\u001b[1;32m     10\u001b[0m \u001b[0;31m#    t3=time.time()\u001b[0m\u001b[0;34m\u001b[0m\u001b[0;34m\u001b[0m\u001b[0;34m\u001b[0m\u001b[0m\n\u001b[0;32m---> 11\u001b[0;31m     \u001b[0mwc\u001b[0m\u001b[0;34m,\u001b[0m \u001b[0mvc\u001b[0m\u001b[0;34m,\u001b[0m \u001b[0mdepths\u001b[0m\u001b[0;34m,\u001b[0m \u001b[0mtri_coords\u001b[0m\u001b[0;34m=\u001b[0m\u001b[0mget_depth_and_barycentric_coordinates\u001b[0m\u001b[0;34m(\u001b[0m\u001b[0mworld_coords\u001b[0m\u001b[0;34m,\u001b[0m\u001b[0mvoxel_coords\u001b[0m\u001b[0;34m,\u001b[0m\u001b[0mprism\u001b[0m\u001b[0;34m)\u001b[0m\u001b[0;34m\u001b[0m\u001b[0;34m\u001b[0m\u001b[0m\n\u001b[0m\u001b[1;32m     12\u001b[0m     \u001b[0mblock\u001b[0m\u001b[0;34m[\u001b[0m\u001b[0mvc\u001b[0m\u001b[0;34m[\u001b[0m\u001b[0;34m:\u001b[0m\u001b[0;34m,\u001b[0m\u001b[0;36m0\u001b[0m\u001b[0;34m]\u001b[0m\u001b[0;34m,\u001b[0m\u001b[0mvc\u001b[0m\u001b[0;34m[\u001b[0m\u001b[0;34m:\u001b[0m\u001b[0;34m,\u001b[0m\u001b[0;36m1\u001b[0m\u001b[0;34m]\u001b[0m\u001b[0;34m,\u001b[0m\u001b[0mvc\u001b[0m\u001b[0;34m[\u001b[0m\u001b[0;34m:\u001b[0m\u001b[0;34m,\u001b[0m\u001b[0;36m2\u001b[0m\u001b[0;34m]\u001b[0m\u001b[0;34m]\u001b[0m \u001b[0;34m=\u001b[0m \u001b[0mdepths\u001b[0m\u001b[0;34m\u001b[0m\u001b[0;34m\u001b[0m\u001b[0m\n\u001b[1;32m     13\u001b[0m \u001b[0;34m\u001b[0m\u001b[0m\n",
      "\u001b[0;32m<ipython-input-51-0844221323f9>\u001b[0m in \u001b[0;36mget_depth_and_barycentric_coordinates\u001b[0;34m(world_coords, voxel_coords, prism)\u001b[0m\n\u001b[1;32m    142\u001b[0m     \u001b[0mdepth\u001b[0m \u001b[0;34m-\u001b[0m \u001b[0mfractional\u001b[0m \u001b[0mdepth\u001b[0m \u001b[0;32mfrom\u001b[0m \u001b[0mgray\u001b[0m \u001b[0mto\u001b[0m \u001b[0mwhite\u001b[0m \u001b[0msurface\u001b[0m\u001b[0;34m\u001b[0m\u001b[0;34m\u001b[0m\u001b[0m\n\u001b[1;32m    143\u001b[0m     barycentric - fractional distance from each vertex in triangle\"\"\"\n\u001b[0;32m--> 144\u001b[0;31m     \u001b[0mdepths\u001b[0m \u001b[0;34m=\u001b[0m \u001b[0mget_exact_depth_multiple_coordinates\u001b[0m\u001b[0;34m(\u001b[0m\u001b[0mworld_coords\u001b[0m\u001b[0;34m,\u001b[0m\u001b[0mprism\u001b[0m\u001b[0;34m)\u001b[0m\u001b[0;34m\u001b[0m\u001b[0;34m\u001b[0m\u001b[0m\n\u001b[0m\u001b[1;32m    145\u001b[0m     \u001b[0;31m#filter out coordinates not in the right depth\u001b[0m\u001b[0;34m\u001b[0m\u001b[0;34m\u001b[0m\u001b[0;34m\u001b[0m\u001b[0m\n\u001b[1;32m    146\u001b[0m     \u001b[0mworld_coords\u001b[0m \u001b[0;34m=\u001b[0m \u001b[0mworld_coords\u001b[0m\u001b[0;34m[\u001b[0m\u001b[0;34m~\u001b[0m\u001b[0mnp\u001b[0m\u001b[0;34m.\u001b[0m\u001b[0misnan\u001b[0m\u001b[0;34m(\u001b[0m\u001b[0mdepths\u001b[0m\u001b[0;34m)\u001b[0m\u001b[0;34m]\u001b[0m\u001b[0;34m\u001b[0m\u001b[0;34m\u001b[0m\u001b[0m\n",
      "\u001b[0;32m<ipython-input-51-0844221323f9>\u001b[0m in \u001b[0;36mget_exact_depth_multiple_coordinates\u001b[0;34m(voxel_coords, prism, decimals)\u001b[0m\n\u001b[1;32m    111\u001b[0m          np.dot(cross_prod_gray_connecting_sum,g3-voxel_coord))\n\u001b[1;32m    112\u001b[0m         \u001b[0mk0\u001b[0m \u001b[0;34m=\u001b[0m \u001b[0;34m(\u001b[0m\u001b[0mnp\u001b[0m\u001b[0;34m.\u001b[0m\u001b[0mdot\u001b[0m\u001b[0;34m(\u001b[0m\u001b[0mcross_product_gray_inplane_vectors\u001b[0m\u001b[0;34m,\u001b[0m\u001b[0mg3\u001b[0m\u001b[0;34m-\u001b[0m\u001b[0mvoxel_coord\u001b[0m\u001b[0;34m)\u001b[0m\u001b[0;34m)\u001b[0m\u001b[0;34m\u001b[0m\u001b[0;34m\u001b[0m\u001b[0m\n\u001b[0;32m--> 113\u001b[0;31m         \u001b[0mdepths\u001b[0m \u001b[0;34m=\u001b[0m \u001b[0mnp\u001b[0m\u001b[0;34m.\u001b[0m\u001b[0mroots\u001b[0m\u001b[0;34m(\u001b[0m\u001b[0;34m[\u001b[0m\u001b[0mk3\u001b[0m\u001b[0;34m,\u001b[0m\u001b[0mk2\u001b[0m\u001b[0;34m,\u001b[0m\u001b[0mk1\u001b[0m\u001b[0;34m,\u001b[0m\u001b[0mk0\u001b[0m\u001b[0;34m]\u001b[0m\u001b[0;34m)\u001b[0m\u001b[0;34m\u001b[0m\u001b[0;34m\u001b[0m\u001b[0m\n\u001b[0m\u001b[1;32m    114\u001b[0m         \u001b[0mdepths\u001b[0m \u001b[0;34m=\u001b[0m \u001b[0mnp\u001b[0m\u001b[0;34m.\u001b[0m\u001b[0mround\u001b[0m\u001b[0;34m(\u001b[0m\u001b[0mdepths\u001b[0m\u001b[0;34m[\u001b[0m\u001b[0mnp\u001b[0m\u001b[0;34m.\u001b[0m\u001b[0misreal\u001b[0m\u001b[0;34m(\u001b[0m\u001b[0mdepths\u001b[0m\u001b[0;34m)\u001b[0m\u001b[0;34m]\u001b[0m\u001b[0;34m,\u001b[0m\u001b[0mdecimals\u001b[0m\u001b[0;34m=\u001b[0m\u001b[0mdecimals\u001b[0m\u001b[0;34m)\u001b[0m\u001b[0;34m\u001b[0m\u001b[0;34m\u001b[0m\u001b[0m\n\u001b[1;32m    115\u001b[0m         \u001b[0mdepths\u001b[0m \u001b[0;34m=\u001b[0m \u001b[0mdepths\u001b[0m\u001b[0;34m[\u001b[0m\u001b[0mnp\u001b[0m\u001b[0;34m.\u001b[0m\u001b[0mlogical_and\u001b[0m\u001b[0;34m(\u001b[0m\u001b[0mdepths\u001b[0m\u001b[0;34m>=\u001b[0m\u001b[0;36m0\u001b[0m\u001b[0;34m,\u001b[0m\u001b[0mdepths\u001b[0m\u001b[0;34m<=\u001b[0m\u001b[0;36m1.0\u001b[0m\u001b[0;34m)\u001b[0m\u001b[0;34m]\u001b[0m\u001b[0;34m\u001b[0m\u001b[0;34m\u001b[0m\u001b[0m\n",
      "\u001b[0;32m~/anaconda2/envs/padl/lib/python3.7/site-packages/numpy/lib/polynomial.py\u001b[0m in \u001b[0;36mroots\u001b[0;34m(p)\u001b[0m\n\u001b[1;32m    243\u001b[0m         \u001b[0mA\u001b[0m \u001b[0;34m=\u001b[0m \u001b[0mdiag\u001b[0m\u001b[0;34m(\u001b[0m\u001b[0mNX\u001b[0m\u001b[0;34m.\u001b[0m\u001b[0mones\u001b[0m\u001b[0;34m(\u001b[0m\u001b[0;34m(\u001b[0m\u001b[0mN\u001b[0m\u001b[0;34m-\u001b[0m\u001b[0;36m2\u001b[0m\u001b[0;34m,\u001b[0m\u001b[0;34m)\u001b[0m\u001b[0;34m,\u001b[0m \u001b[0mp\u001b[0m\u001b[0;34m.\u001b[0m\u001b[0mdtype\u001b[0m\u001b[0;34m)\u001b[0m\u001b[0;34m,\u001b[0m \u001b[0;34m-\u001b[0m\u001b[0;36m1\u001b[0m\u001b[0;34m)\u001b[0m\u001b[0;34m\u001b[0m\u001b[0;34m\u001b[0m\u001b[0m\n\u001b[1;32m    244\u001b[0m         \u001b[0mA\u001b[0m\u001b[0;34m[\u001b[0m\u001b[0;36m0\u001b[0m\u001b[0;34m,\u001b[0m\u001b[0;34m:\u001b[0m\u001b[0;34m]\u001b[0m \u001b[0;34m=\u001b[0m \u001b[0;34m-\u001b[0m\u001b[0mp\u001b[0m\u001b[0;34m[\u001b[0m\u001b[0;36m1\u001b[0m\u001b[0;34m:\u001b[0m\u001b[0;34m]\u001b[0m \u001b[0;34m/\u001b[0m \u001b[0mp\u001b[0m\u001b[0;34m[\u001b[0m\u001b[0;36m0\u001b[0m\u001b[0;34m]\u001b[0m\u001b[0;34m\u001b[0m\u001b[0;34m\u001b[0m\u001b[0m\n\u001b[0;32m--> 245\u001b[0;31m         \u001b[0mroots\u001b[0m \u001b[0;34m=\u001b[0m \u001b[0meigvals\u001b[0m\u001b[0;34m(\u001b[0m\u001b[0mA\u001b[0m\u001b[0;34m)\u001b[0m\u001b[0;34m\u001b[0m\u001b[0;34m\u001b[0m\u001b[0m\n\u001b[0m\u001b[1;32m    246\u001b[0m     \u001b[0;32melse\u001b[0m\u001b[0;34m:\u001b[0m\u001b[0;34m\u001b[0m\u001b[0;34m\u001b[0m\u001b[0m\n\u001b[1;32m    247\u001b[0m         \u001b[0mroots\u001b[0m \u001b[0;34m=\u001b[0m \u001b[0mNX\u001b[0m\u001b[0;34m.\u001b[0m\u001b[0marray\u001b[0m\u001b[0;34m(\u001b[0m\u001b[0;34m[\u001b[0m\u001b[0;34m]\u001b[0m\u001b[0;34m)\u001b[0m\u001b[0;34m\u001b[0m\u001b[0;34m\u001b[0m\u001b[0m\n",
      "\u001b[0;32m~/anaconda2/envs/padl/lib/python3.7/site-packages/numpy/linalg/linalg.py\u001b[0m in \u001b[0;36meigvals\u001b[0;34m(a)\u001b[0m\n\u001b[1;32m   1062\u001b[0m         _raise_linalgerror_eigenvalues_nonconvergence)\n\u001b[1;32m   1063\u001b[0m     \u001b[0msignature\u001b[0m \u001b[0;34m=\u001b[0m \u001b[0;34m'D->D'\u001b[0m \u001b[0;32mif\u001b[0m \u001b[0misComplexType\u001b[0m\u001b[0;34m(\u001b[0m\u001b[0mt\u001b[0m\u001b[0;34m)\u001b[0m \u001b[0;32melse\u001b[0m \u001b[0;34m'd->D'\u001b[0m\u001b[0;34m\u001b[0m\u001b[0;34m\u001b[0m\u001b[0m\n\u001b[0;32m-> 1064\u001b[0;31m     \u001b[0mw\u001b[0m \u001b[0;34m=\u001b[0m \u001b[0m_umath_linalg\u001b[0m\u001b[0;34m.\u001b[0m\u001b[0meigvals\u001b[0m\u001b[0;34m(\u001b[0m\u001b[0ma\u001b[0m\u001b[0;34m,\u001b[0m \u001b[0msignature\u001b[0m\u001b[0;34m=\u001b[0m\u001b[0msignature\u001b[0m\u001b[0;34m,\u001b[0m \u001b[0mextobj\u001b[0m\u001b[0;34m=\u001b[0m\u001b[0mextobj\u001b[0m\u001b[0;34m)\u001b[0m\u001b[0;34m\u001b[0m\u001b[0;34m\u001b[0m\u001b[0m\n\u001b[0m\u001b[1;32m   1065\u001b[0m \u001b[0;34m\u001b[0m\u001b[0m\n\u001b[1;32m   1066\u001b[0m     \u001b[0;32mif\u001b[0m \u001b[0;32mnot\u001b[0m \u001b[0misComplexType\u001b[0m\u001b[0;34m(\u001b[0m\u001b[0mt\u001b[0m\u001b[0;34m)\u001b[0m\u001b[0;34m:\u001b[0m\u001b[0;34m\u001b[0m\u001b[0;34m\u001b[0m\u001b[0m\n",
      "\u001b[0;31mKeyboardInterrupt\u001b[0m: "
     ]
    }
   ],
   "source": [
    "import time\n",
    "t1=time.time()\n",
    "\n",
    "for triangle in w_surf['faces']:\n",
    "    prism=generate_prism(g_surf['coords'], w_surf['coords'],triangle)\n",
    "    bbox = prism_bounding_box(prism)\n",
    "    world_coords, voxel_coords= voxel_world_coords_in_box(bbox,origin_offset, resolution, dimensions)\n",
    "#    t3=time.time()\n",
    "    wc, vc, depths, tri_coords=get_depth_and_barycentric_coordinates(world_coords,voxel_coords,prism)\n",
    "    block[vc[:,0],vc[:,1],vc[:,2]] = depths\n",
    "\n",
    "t2=time.time()\n",
    "t2-t1"
   ]
  },
  {
   "cell_type": "code",
   "execution_count": 8,
   "metadata": {},
   "outputs": [
    {
     "data": {
      "text/plain": [
       "(array([[-56.03248333,   1.40756683,  -3.82880667],\n",
       "        [-56.03248333,   1.40756683,  -3.82880667]]),\n",
       " array([[-56.03248333,   1.40756683,  -3.82880667],\n",
       "        [-56.03248333,   1.40756683,  -3.82880667]]),\n",
       " array([0.5, 0.5]),\n",
       " array([[0.33333333, 0.33333333, 0.33333333],\n",
       "        [0.33333333, 0.33333333, 0.33333333]]))"
      ]
     },
     "execution_count": 8,
     "metadata": {},
     "output_type": "execute_result"
    }
   ],
   "source": [
    "com=np.mean(np.vstack((prism['g_triangle'],prism['w_triangle'])),axis=0)\n",
    "world_coords=np.array([com,com])\n",
    "get_depth_and_barycentric_coordinates(world_coords,world_coords,prism)"
   ]
  },
  {
   "cell_type": "code",
   "execution_count": 9,
   "metadata": {},
   "outputs": [],
   "source": [
    "prism=generate_prism(g_surf['coords'], w_surf['coords'],triangle)\n",
    "bbox = prism_bounding_box(prism)\n",
    "world_coords, voxel_coords= voxel_world_coords_in_box(bbox,origin_offset, resolution, dimensions)\n"
   ]
  },
  {
   "cell_type": "code",
   "execution_count": 530,
   "metadata": {},
   "outputs": [
    {
     "data": {
      "text/plain": [
       "array([[-46.36   ,  18.09   ,   4.02222],\n",
       "       [-46.26   ,  18.09   ,   4.02222],\n",
       "       [-46.16   ,  18.09   ,   4.02222],\n",
       "       ...,\n",
       "       [-44.86   ,  19.29   ,   5.22222],\n",
       "       [-44.76   ,  19.29   ,   5.22222],\n",
       "       [-44.66   ,  19.29   ,   5.22222]])"
      ]
     },
     "execution_count": 530,
     "metadata": {},
     "output_type": "execute_result"
    }
   ],
   "source": [
    "world_coords"
   ]
  },
  {
   "cell_type": "code",
   "execution_count": 531,
   "metadata": {},
   "outputs": [
    {
     "name": "stdout",
     "output_type": "stream",
     "text": [
      "{'g_triangle': array([[-44.7379 ,  18.2156 ,   4.09533],\n",
      "       [-44.6407 ,  18.2997 ,   4.06897],\n",
      "       [-44.678  ,  18.1716 ,   4.35543]]), 'w_triangle': array([[-46.3468 ,  19.0689 ,   4.79584],\n",
      "       [-46.0479 ,  19.3209 ,   4.8976 ],\n",
      "       [-46.1933 ,  18.9427 ,   5.2665 ]])} [[-46.36     18.09      4.02222]\n",
      " [-46.26     18.09      4.02222]\n",
      " [-46.16     18.09      4.02222]\n",
      " ...\n",
      " [-44.86     19.29      5.22222]\n",
      " [-44.76     19.29      5.22222]\n",
      " [-44.66     19.29      5.22222]] (array([-46.3468 ,  18.1716 ,   4.06897]), array([-44.6407,  19.3209,   5.2665]))\n"
     ]
    }
   ],
   "source": [
    "print(prism,world_coords,bbox)"
   ]
  },
  {
   "cell_type": "code",
   "execution_count": 14,
   "metadata": {},
   "outputs": [
    {
     "data": {
      "text/plain": [
       "<mpl_toolkits.mplot3d.art3d.Path3DCollection at 0x7f4ca6acd8d0>"
      ]
     },
     "execution_count": 14,
     "metadata": {},
     "output_type": "execute_result"
    },
    {
     "data": {
      "image/png": "[encoded data removed]",
      "text/plain": [
       "<Figure size 432x288 with 1 Axes>"
      ]
     },
     "metadata": {
      "needs_background": "light"
     },
     "output_type": "display_data"
    }
   ],
   "source": [
    "\n",
    "from mpl_toolkits.mplot3d import Axes3D\n",
    "\n",
    "\n",
    "fig = plt.figure()\n",
    "ax = fig.add_subplot(111, projection='3d')\n",
    "\n",
    "ax.scatter(world_coords[:,0],world_coords[:,1],world_coords[:,2])\n",
    "g=prism['g_triangle']\n",
    "ax.scatter(g[:,0],g[:,1],g[:,2])\n",
    "w=prism['w_triangle']\n",
    "ax.scatter(w[:,0],w[:,1],w[:,2])"
   ]
  },
  {
   "cell_type": "code",
   "execution_count": 42,
   "metadata": {},
   "outputs": [
    {
     "name": "stdout",
     "output_type": "stream",
     "text": [
      "0.16296863555908203\n",
      "0.15536236763000488\n",
      "0.18627309799194336\n",
      "0.1907331943511963\n",
      "0.13355302810668945\n",
      "0.1505424976348877\n",
      "0.14462971687316895\n",
      "0.137678861618042\n",
      "0.1981053352355957\n",
      "0.15539336204528809\n",
      "0.16439270973205566\n",
      "0.14194297790527344\n",
      "0.17474913597106934\n",
      "0.13811850547790527\n",
      "0.13878154754638672\n",
      "0.12502026557922363\n",
      "0.15850234031677246\n",
      "0.20100808143615723\n",
      "0.15047430992126465\n",
      "0.14403820037841797\n",
      "0.19357728958129883\n"
     ]
    },
    {
     "name": "stderr",
     "output_type": "stream",
     "text": [
      "/home/kwagstyl/anaconda2/envs/padl/lib/python3.7/site-packages/ipykernel_launcher.py:115: ComplexWarning: Casting complex values to real discards the imaginary part\n"
     ]
    },
    {
     "name": "stdout",
     "output_type": "stream",
     "text": [
      "0.2548861503601074\n",
      "0.22644948959350586\n",
      "0.16535353660583496\n",
      "0.15536141395568848\n",
      "0.20332050323486328\n",
      "0.15500140190124512\n",
      "0.18393540382385254\n",
      "0.13977789878845215\n",
      "0.14026451110839844\n",
      "0.1464371681213379\n",
      "0.09307622909545898\n",
      "0.10117483139038086\n",
      "0.12093734741210938\n",
      "0.11409831047058105\n",
      "0.0932457447052002\n",
      "0.13695693016052246\n",
      "0.15106940269470215\n",
      "0.14400959014892578\n",
      "0.13361573219299316\n",
      "0.09365582466125488\n",
      "0.12168526649475098\n",
      "0.12801504135131836\n",
      "0.12937331199645996\n",
      "0.08718705177307129\n",
      "0.14718842506408691\n",
      "0.11445474624633789\n",
      "0.08187556266784668\n",
      "0.08032965660095215\n",
      "0.092193603515625\n",
      "0.07218694686889648\n",
      "0.0838921070098877\n",
      "0.08716773986816406\n",
      "0.13920164108276367\n",
      "0.08725857734680176\n",
      "0.14042139053344727\n",
      "0.07706475257873535\n",
      "0.07627201080322266\n",
      "0.10963320732116699\n",
      "0.12106060981750488\n",
      "0.10854005813598633\n",
      "0.15697789192199707\n",
      "0.15823578834533691\n",
      "0.20239925384521484\n",
      "0.2902946472167969\n",
      "0.20430707931518555\n",
      "0.22969961166381836\n",
      "0.21964597702026367\n",
      "0.21739578247070312\n",
      "0.3389730453491211\n",
      "0.3707261085510254\n",
      "0.30965256690979004\n",
      "0.21895623207092285\n",
      "0.21706390380859375\n",
      "0.2264387607574463\n",
      "0.2904210090637207\n",
      "0.2913811206817627\n",
      "0.37808990478515625\n",
      "0.28832197189331055\n",
      "0.4604499340057373\n",
      "0.3624248504638672\n",
      "0.3368980884552002\n",
      "0.4356367588043213\n",
      "0.4904136657714844\n",
      "0.3506762981414795\n",
      "0.4771409034729004\n",
      "0.4293062686920166\n",
      "0.8242154121398926\n"
     ]
    },
    {
     "ename": "KeyboardInterrupt",
     "evalue": "",
     "output_type": "error",
     "traceback": [
      "\u001b[0;31m---------------------------------------------------------------------------\u001b[0m",
      "\u001b[0;31mKeyboardInterrupt\u001b[0m                         Traceback (most recent call last)",
      "\u001b[0;32m<ipython-input-42-85cdb6f6cba8>\u001b[0m in \u001b[0;36m<module>\u001b[0;34m\u001b[0m\n\u001b[1;32m      8\u001b[0m     \u001b[0mworld_coords\u001b[0m\u001b[0;34m,\u001b[0m \u001b[0mvoxel_coords\u001b[0m\u001b[0;34m=\u001b[0m \u001b[0mvoxel_world_coords_in_box\u001b[0m\u001b[0;34m(\u001b[0m\u001b[0mbbox\u001b[0m\u001b[0;34m,\u001b[0m\u001b[0morigin_offset\u001b[0m\u001b[0;34m,\u001b[0m \u001b[0mresolution\u001b[0m\u001b[0;34m,\u001b[0m \u001b[0mdimensions\u001b[0m\u001b[0;34m)\u001b[0m\u001b[0;34m\u001b[0m\u001b[0;34m\u001b[0m\u001b[0m\n\u001b[1;32m      9\u001b[0m     \u001b[0mt3\u001b[0m\u001b[0;34m=\u001b[0m\u001b[0mtime\u001b[0m\u001b[0;34m.\u001b[0m\u001b[0mtime\u001b[0m\u001b[0;34m(\u001b[0m\u001b[0;34m)\u001b[0m\u001b[0;34m\u001b[0m\u001b[0;34m\u001b[0m\u001b[0m\n\u001b[0;32m---> 10\u001b[0;31m     \u001b[0mwc\u001b[0m\u001b[0;34m,\u001b[0m \u001b[0mvc\u001b[0m\u001b[0;34m,\u001b[0m \u001b[0mdepths\u001b[0m\u001b[0;34m,\u001b[0m \u001b[0mtri_coords\u001b[0m\u001b[0;34m=\u001b[0m\u001b[0mget_depth_and_barycentric_coordinates\u001b[0m\u001b[0;34m(\u001b[0m\u001b[0mworld_coords\u001b[0m\u001b[0;34m,\u001b[0m\u001b[0mvoxel_coords\u001b[0m\u001b[0;34m,\u001b[0m\u001b[0mprism\u001b[0m\u001b[0;34m)\u001b[0m\u001b[0;34m\u001b[0m\u001b[0;34m\u001b[0m\u001b[0m\n\u001b[0m\u001b[1;32m     11\u001b[0m     \u001b[0mblock\u001b[0m\u001b[0;34m[\u001b[0m\u001b[0mvc\u001b[0m\u001b[0;34m[\u001b[0m\u001b[0;34m:\u001b[0m\u001b[0;34m,\u001b[0m\u001b[0;36m0\u001b[0m\u001b[0;34m]\u001b[0m\u001b[0;34m,\u001b[0m\u001b[0mvc\u001b[0m\u001b[0;34m[\u001b[0m\u001b[0;34m:\u001b[0m\u001b[0;34m,\u001b[0m\u001b[0;36m1\u001b[0m\u001b[0;34m]\u001b[0m\u001b[0;34m,\u001b[0m\u001b[0mvc\u001b[0m\u001b[0;34m[\u001b[0m\u001b[0;34m:\u001b[0m\u001b[0;34m,\u001b[0m\u001b[0;36m2\u001b[0m\u001b[0;34m]\u001b[0m\u001b[0;34m]\u001b[0m \u001b[0;34m=\u001b[0m \u001b[0mdepths\u001b[0m\u001b[0;34m\u001b[0m\u001b[0;34m\u001b[0m\u001b[0m\n\u001b[1;32m     12\u001b[0m     \u001b[0mt4\u001b[0m\u001b[0;34m=\u001b[0m\u001b[0mtime\u001b[0m\u001b[0;34m.\u001b[0m\u001b[0mtime\u001b[0m\u001b[0;34m(\u001b[0m\u001b[0;34m)\u001b[0m\u001b[0;34m\u001b[0m\u001b[0;34m\u001b[0m\u001b[0m\n",
      "\u001b[0;32m<ipython-input-23-1e3f2e37280a>\u001b[0m in \u001b[0;36mget_depth_and_barycentric_coordinates\u001b[0;34m(world_coords, voxel_coords, prism)\u001b[0m\n\u001b[1;32m    138\u001b[0m     \u001b[0mdepth\u001b[0m \u001b[0;34m-\u001b[0m \u001b[0mfractional\u001b[0m \u001b[0mdepth\u001b[0m \u001b[0;32mfrom\u001b[0m \u001b[0mgray\u001b[0m \u001b[0mto\u001b[0m \u001b[0mwhite\u001b[0m \u001b[0msurface\u001b[0m\u001b[0;34m\u001b[0m\u001b[0;34m\u001b[0m\u001b[0m\n\u001b[1;32m    139\u001b[0m     barycentric - fractional distance from each vertex in triangle\"\"\"\n\u001b[0;32m--> 140\u001b[0;31m     \u001b[0mdepths\u001b[0m \u001b[0;34m=\u001b[0m \u001b[0mget_exact_depth_multiple_coordinates\u001b[0m\u001b[0;34m(\u001b[0m\u001b[0mworld_coords\u001b[0m\u001b[0;34m,\u001b[0m\u001b[0mprism\u001b[0m\u001b[0;34m)\u001b[0m\u001b[0;34m\u001b[0m\u001b[0;34m\u001b[0m\u001b[0m\n\u001b[0m\u001b[1;32m    141\u001b[0m     \u001b[0;31m#filter out coordinates not in the right depth\u001b[0m\u001b[0;34m\u001b[0m\u001b[0;34m\u001b[0m\u001b[0;34m\u001b[0m\u001b[0m\n\u001b[1;32m    142\u001b[0m     \u001b[0mworld_coords\u001b[0m \u001b[0;34m=\u001b[0m \u001b[0mworld_coords\u001b[0m\u001b[0;34m[\u001b[0m\u001b[0;34m~\u001b[0m\u001b[0mnp\u001b[0m\u001b[0;34m.\u001b[0m\u001b[0misnan\u001b[0m\u001b[0;34m(\u001b[0m\u001b[0mdepths\u001b[0m\u001b[0;34m)\u001b[0m\u001b[0;34m]\u001b[0m\u001b[0;34m\u001b[0m\u001b[0;34m\u001b[0m\u001b[0m\n",
      "\u001b[0;32m<ipython-input-23-1e3f2e37280a>\u001b[0m in \u001b[0;36mget_exact_depth_multiple_coordinates\u001b[0;34m(voxel_coords, prism, decimals)\u001b[0m\n\u001b[1;32m    107\u001b[0m          np.dot(cross_prod_gray_connecting_sum,g3-voxel_coord))\n\u001b[1;32m    108\u001b[0m         \u001b[0mk0\u001b[0m \u001b[0;34m=\u001b[0m \u001b[0;34m(\u001b[0m\u001b[0mnp\u001b[0m\u001b[0;34m.\u001b[0m\u001b[0mdot\u001b[0m\u001b[0;34m(\u001b[0m\u001b[0mcross_product_gray_inplane_vectors\u001b[0m\u001b[0;34m,\u001b[0m\u001b[0mg3\u001b[0m\u001b[0;34m-\u001b[0m\u001b[0mvoxel_coord\u001b[0m\u001b[0;34m)\u001b[0m\u001b[0;34m)\u001b[0m\u001b[0;34m\u001b[0m\u001b[0;34m\u001b[0m\u001b[0m\n\u001b[0;32m--> 109\u001b[0;31m         \u001b[0mdepths\u001b[0m \u001b[0;34m=\u001b[0m \u001b[0mnp\u001b[0m\u001b[0;34m.\u001b[0m\u001b[0mroots\u001b[0m\u001b[0;34m(\u001b[0m\u001b[0;34m[\u001b[0m\u001b[0mk3\u001b[0m\u001b[0;34m,\u001b[0m\u001b[0mk2\u001b[0m\u001b[0;34m,\u001b[0m\u001b[0mk1\u001b[0m\u001b[0;34m,\u001b[0m\u001b[0mk0\u001b[0m\u001b[0;34m]\u001b[0m\u001b[0;34m)\u001b[0m\u001b[0;34m\u001b[0m\u001b[0;34m\u001b[0m\u001b[0m\n\u001b[0m\u001b[1;32m    110\u001b[0m         \u001b[0mdepths\u001b[0m \u001b[0;34m=\u001b[0m \u001b[0mnp\u001b[0m\u001b[0;34m.\u001b[0m\u001b[0mround\u001b[0m\u001b[0;34m(\u001b[0m\u001b[0mdepths\u001b[0m\u001b[0;34m[\u001b[0m\u001b[0mnp\u001b[0m\u001b[0;34m.\u001b[0m\u001b[0misreal\u001b[0m\u001b[0;34m(\u001b[0m\u001b[0mdepths\u001b[0m\u001b[0;34m)\u001b[0m\u001b[0;34m]\u001b[0m\u001b[0;34m,\u001b[0m\u001b[0mdecimals\u001b[0m\u001b[0;34m=\u001b[0m\u001b[0mdecimals\u001b[0m\u001b[0;34m)\u001b[0m\u001b[0;34m\u001b[0m\u001b[0;34m\u001b[0m\u001b[0m\n\u001b[1;32m    111\u001b[0m         \u001b[0mdepths\u001b[0m \u001b[0;34m=\u001b[0m \u001b[0mdepths\u001b[0m\u001b[0;34m[\u001b[0m\u001b[0mnp\u001b[0m\u001b[0;34m.\u001b[0m\u001b[0mlogical_and\u001b[0m\u001b[0;34m(\u001b[0m\u001b[0mdepths\u001b[0m\u001b[0;34m>=\u001b[0m\u001b[0;36m0\u001b[0m\u001b[0;34m,\u001b[0m\u001b[0mdepths\u001b[0m\u001b[0;34m<=\u001b[0m\u001b[0;36m1.0\u001b[0m\u001b[0;34m)\u001b[0m\u001b[0;34m]\u001b[0m\u001b[0;34m\u001b[0m\u001b[0;34m\u001b[0m\u001b[0m\n",
      "\u001b[0;32m~/anaconda2/envs/padl/lib/python3.7/site-packages/numpy/lib/polynomial.py\u001b[0m in \u001b[0;36mroots\u001b[0;34m(p)\u001b[0m\n\u001b[1;32m    243\u001b[0m         \u001b[0mA\u001b[0m \u001b[0;34m=\u001b[0m \u001b[0mdiag\u001b[0m\u001b[0;34m(\u001b[0m\u001b[0mNX\u001b[0m\u001b[0;34m.\u001b[0m\u001b[0mones\u001b[0m\u001b[0;34m(\u001b[0m\u001b[0;34m(\u001b[0m\u001b[0mN\u001b[0m\u001b[0;34m-\u001b[0m\u001b[0;36m2\u001b[0m\u001b[0;34m,\u001b[0m\u001b[0;34m)\u001b[0m\u001b[0;34m,\u001b[0m \u001b[0mp\u001b[0m\u001b[0;34m.\u001b[0m\u001b[0mdtype\u001b[0m\u001b[0;34m)\u001b[0m\u001b[0;34m,\u001b[0m \u001b[0;34m-\u001b[0m\u001b[0;36m1\u001b[0m\u001b[0;34m)\u001b[0m\u001b[0;34m\u001b[0m\u001b[0;34m\u001b[0m\u001b[0m\n\u001b[1;32m    244\u001b[0m         \u001b[0mA\u001b[0m\u001b[0;34m[\u001b[0m\u001b[0;36m0\u001b[0m\u001b[0;34m,\u001b[0m\u001b[0;34m:\u001b[0m\u001b[0;34m]\u001b[0m \u001b[0;34m=\u001b[0m \u001b[0;34m-\u001b[0m\u001b[0mp\u001b[0m\u001b[0;34m[\u001b[0m\u001b[0;36m1\u001b[0m\u001b[0;34m:\u001b[0m\u001b[0;34m]\u001b[0m \u001b[0;34m/\u001b[0m \u001b[0mp\u001b[0m\u001b[0;34m[\u001b[0m\u001b[0;36m0\u001b[0m\u001b[0;34m]\u001b[0m\u001b[0;34m\u001b[0m\u001b[0;34m\u001b[0m\u001b[0m\n\u001b[0;32m--> 245\u001b[0;31m         \u001b[0mroots\u001b[0m \u001b[0;34m=\u001b[0m \u001b[0meigvals\u001b[0m\u001b[0;34m(\u001b[0m\u001b[0mA\u001b[0m\u001b[0;34m)\u001b[0m\u001b[0;34m\u001b[0m\u001b[0;34m\u001b[0m\u001b[0m\n\u001b[0m\u001b[1;32m    246\u001b[0m     \u001b[0;32melse\u001b[0m\u001b[0;34m:\u001b[0m\u001b[0;34m\u001b[0m\u001b[0;34m\u001b[0m\u001b[0m\n\u001b[1;32m    247\u001b[0m         \u001b[0mroots\u001b[0m \u001b[0;34m=\u001b[0m \u001b[0mNX\u001b[0m\u001b[0;34m.\u001b[0m\u001b[0marray\u001b[0m\u001b[0;34m(\u001b[0m\u001b[0;34m[\u001b[0m\u001b[0;34m]\u001b[0m\u001b[0;34m)\u001b[0m\u001b[0;34m\u001b[0m\u001b[0;34m\u001b[0m\u001b[0m\n",
      "\u001b[0;32m~/anaconda2/envs/padl/lib/python3.7/site-packages/numpy/linalg/linalg.py\u001b[0m in \u001b[0;36meigvals\u001b[0;34m(a)\u001b[0m\n\u001b[1;32m   1062\u001b[0m         _raise_linalgerror_eigenvalues_nonconvergence)\n\u001b[1;32m   1063\u001b[0m     \u001b[0msignature\u001b[0m \u001b[0;34m=\u001b[0m \u001b[0;34m'D->D'\u001b[0m \u001b[0;32mif\u001b[0m \u001b[0misComplexType\u001b[0m\u001b[0;34m(\u001b[0m\u001b[0mt\u001b[0m\u001b[0;34m)\u001b[0m \u001b[0;32melse\u001b[0m \u001b[0;34m'd->D'\u001b[0m\u001b[0;34m\u001b[0m\u001b[0;34m\u001b[0m\u001b[0m\n\u001b[0;32m-> 1064\u001b[0;31m     \u001b[0mw\u001b[0m \u001b[0;34m=\u001b[0m \u001b[0m_umath_linalg\u001b[0m\u001b[0;34m.\u001b[0m\u001b[0meigvals\u001b[0m\u001b[0;34m(\u001b[0m\u001b[0ma\u001b[0m\u001b[0;34m,\u001b[0m \u001b[0msignature\u001b[0m\u001b[0;34m=\u001b[0m\u001b[0msignature\u001b[0m\u001b[0;34m,\u001b[0m \u001b[0mextobj\u001b[0m\u001b[0;34m=\u001b[0m\u001b[0mextobj\u001b[0m\u001b[0;34m)\u001b[0m\u001b[0;34m\u001b[0m\u001b[0;34m\u001b[0m\u001b[0m\n\u001b[0m\u001b[1;32m   1065\u001b[0m \u001b[0;34m\u001b[0m\u001b[0m\n\u001b[1;32m   1066\u001b[0m     \u001b[0;32mif\u001b[0m \u001b[0;32mnot\u001b[0m \u001b[0misComplexType\u001b[0m\u001b[0;34m(\u001b[0m\u001b[0mt\u001b[0m\u001b[0;34m)\u001b[0m\u001b[0;34m:\u001b[0m\u001b[0;34m\u001b[0m\u001b[0;34m\u001b[0m\u001b[0m\n",
      "\u001b[0;31mKeyboardInterrupt\u001b[0m: "
     ]
    }
   ],
   "source": []
  },
  {
   "cell_type": "code",
   "execution_count": 38,
   "metadata": {},
   "outputs": [
    {
     "data": {
      "text/plain": [
       "array([0., 0., 0., 0., 0., 0., 0., 0., 0., 0., 0., 0., 0., 0., 0., 0., 0.,\n",
       "       0., 0., 0., 0., 0., 0., 0., 0., 0., 0., 0., 0., 0., 0., 0., 0., 0.,\n",
       "       0., 0., 0., 0., 0.])"
      ]
     },
     "execution_count": 38,
     "metadata": {},
     "output_type": "execute_result"
    }
   ],
   "source": [
    "block[vc[:,0],vc[:,1],vc[:,2]]"
   ]
  },
  {
   "cell_type": "code",
   "execution_count": 41,
   "metadata": {},
   "outputs": [
    {
     "data": {
      "text/plain": [
       "array([[[[0., 0., 0., ..., 0., 0., 0.],\n",
       "         [0., 0., 0., ..., 0., 0., 0.],\n",
       "         [0., 0., 0., ..., 0., 0., 0.],\n",
       "         ...,\n",
       "         [0., 0., 0., ..., 0., 0., 0.],\n",
       "         [0., 0., 0., ..., 0., 0., 0.],\n",
       "         [0., 0., 0., ..., 0., 0., 0.]],\n",
       "\n",
       "        [[0., 0., 0., ..., 0., 0., 0.],\n",
       "         [0., 0., 0., ..., 0., 0., 0.],\n",
       "         [0., 0., 0., ..., 0., 0., 0.],\n",
       "         ...,\n",
       "         [0., 0., 0., ..., 0., 0., 0.],\n",
       "         [0., 0., 0., ..., 0., 0., 0.],\n",
       "         [0., 0., 0., ..., 0., 0., 0.]],\n",
       "\n",
       "        [[0., 0., 0., ..., 0., 0., 0.],\n",
       "         [0., 0., 0., ..., 0., 0., 0.],\n",
       "         [0., 0., 0., ..., 0., 0., 0.],\n",
       "         ...,\n",
       "         [0., 0., 0., ..., 0., 0., 0.],\n",
       "         [0., 0., 0., ..., 0., 0., 0.],\n",
       "         [0., 0., 0., ..., 0., 0., 0.]],\n",
       "\n",
       "        ...,\n",
       "\n",
       "        [[0., 0., 0., ..., 0., 0., 0.],\n",
       "         [0., 0., 0., ..., 0., 0., 0.],\n",
       "         [0., 0., 0., ..., 0., 0., 0.],\n",
       "         ...,\n",
       "         [0., 0., 0., ..., 0., 0., 0.],\n",
       "         [0., 0., 0., ..., 0., 0., 0.],\n",
       "         [0., 0., 0., ..., 0., 0., 0.]],\n",
       "\n",
       "        [[0., 0., 0., ..., 0., 0., 0.],\n",
       "         [0., 0., 0., ..., 0., 0., 0.],\n",
       "         [0., 0., 0., ..., 0., 0., 0.],\n",
       "         ...,\n",
       "         [0., 0., 0., ..., 0., 0., 0.],\n",
       "         [0., 0., 0., ..., 0., 0., 0.],\n",
       "         [0., 0., 0., ..., 0., 0., 0.]],\n",
       "\n",
       "        [[0., 0., 0., ..., 0., 0., 0.],\n",
       "         [0., 0., 0., ..., 0., 0., 0.],\n",
       "         [0., 0., 0., ..., 0., 0., 0.],\n",
       "         ...,\n",
       "         [0., 0., 0., ..., 0., 0., 0.],\n",
       "         [0., 0., 0., ..., 0., 0., 0.],\n",
       "         [0., 0., 0., ..., 0., 0., 0.]]],\n",
       "\n",
       "\n",
       "       [[[0., 0., 0., ..., 0., 0., 0.],\n",
       "         [0., 0., 0., ..., 0., 0., 0.],\n",
       "         [0., 0., 0., ..., 0., 0., 0.],\n",
       "         ...,\n",
       "         [0., 0., 0., ..., 0., 0., 0.],\n",
       "         [0., 0., 0., ..., 0., 0., 0.],\n",
       "         [0., 0., 0., ..., 0., 0., 0.]],\n",
       "\n",
       "        [[0., 0., 0., ..., 0., 0., 0.],\n",
       "         [0., 0., 0., ..., 0., 0., 0.],\n",
       "         [0., 0., 0., ..., 0., 0., 0.],\n",
       "         ...,\n",
       "         [0., 0., 0., ..., 0., 0., 0.],\n",
       "         [0., 0., 0., ..., 0., 0., 0.],\n",
       "         [0., 0., 0., ..., 0., 0., 0.]],\n",
       "\n",
       "        [[0., 0., 0., ..., 0., 0., 0.],\n",
       "         [0., 0., 0., ..., 0., 0., 0.],\n",
       "         [0., 0., 0., ..., 0., 0., 0.],\n",
       "         ...,\n",
       "         [0., 0., 0., ..., 0., 0., 0.],\n",
       "         [0., 0., 0., ..., 0., 0., 0.],\n",
       "         [0., 0., 0., ..., 0., 0., 0.]],\n",
       "\n",
       "        ...,\n",
       "\n",
       "        [[0., 0., 0., ..., 0., 0., 0.],\n",
       "         [0., 0., 0., ..., 0., 0., 0.],\n",
       "         [0., 0., 0., ..., 0., 0., 0.],\n",
       "         ...,\n",
       "         [0., 0., 0., ..., 0., 0., 0.],\n",
       "         [0., 0., 0., ..., 0., 0., 0.],\n",
       "         [0., 0., 0., ..., 0., 0., 0.]],\n",
       "\n",
       "        [[0., 0., 0., ..., 0., 0., 0.],\n",
       "         [0., 0., 0., ..., 0., 0., 0.],\n",
       "         [0., 0., 0., ..., 0., 0., 0.],\n",
       "         ...,\n",
       "         [0., 0., 0., ..., 0., 0., 0.],\n",
       "         [0., 0., 0., ..., 0., 0., 0.],\n",
       "         [0., 0., 0., ..., 0., 0., 0.]],\n",
       "\n",
       "        [[0., 0., 0., ..., 0., 0., 0.],\n",
       "         [0., 0., 0., ..., 0., 0., 0.],\n",
       "         [0., 0., 0., ..., 0., 0., 0.],\n",
       "         ...,\n",
       "         [0., 0., 0., ..., 0., 0., 0.],\n",
       "         [0., 0., 0., ..., 0., 0., 0.],\n",
       "         [0., 0., 0., ..., 0., 0., 0.]]],\n",
       "\n",
       "\n",
       "       [[[0., 0., 0., ..., 0., 0., 0.],\n",
       "         [0., 0., 0., ..., 0., 0., 0.],\n",
       "         [0., 0., 0., ..., 0., 0., 0.],\n",
       "         ...,\n",
       "         [0., 0., 0., ..., 0., 0., 0.],\n",
       "         [0., 0., 0., ..., 0., 0., 0.],\n",
       "         [0., 0., 0., ..., 0., 0., 0.]],\n",
       "\n",
       "        [[0., 0., 0., ..., 0., 0., 0.],\n",
       "         [0., 0., 0., ..., 0., 0., 0.],\n",
       "         [0., 0., 0., ..., 0., 0., 0.],\n",
       "         ...,\n",
       "         [0., 0., 0., ..., 0., 0., 0.],\n",
       "         [0., 0., 0., ..., 0., 0., 0.],\n",
       "         [0., 0., 0., ..., 0., 0., 0.]],\n",
       "\n",
       "        [[0., 0., 0., ..., 0., 0., 0.],\n",
       "         [0., 0., 0., ..., 0., 0., 0.],\n",
       "         [0., 0., 0., ..., 0., 0., 0.],\n",
       "         ...,\n",
       "         [0., 0., 0., ..., 0., 0., 0.],\n",
       "         [0., 0., 0., ..., 0., 0., 0.],\n",
       "         [0., 0., 0., ..., 0., 0., 0.]],\n",
       "\n",
       "        ...,\n",
       "\n",
       "        [[0., 0., 0., ..., 0., 0., 0.],\n",
       "         [0., 0., 0., ..., 0., 0., 0.],\n",
       "         [0., 0., 0., ..., 0., 0., 0.],\n",
       "         ...,\n",
       "         [0., 0., 0., ..., 0., 0., 0.],\n",
       "         [0., 0., 0., ..., 0., 0., 0.],\n",
       "         [0., 0., 0., ..., 0., 0., 0.]],\n",
       "\n",
       "        [[0., 0., 0., ..., 0., 0., 0.],\n",
       "         [0., 0., 0., ..., 0., 0., 0.],\n",
       "         [0., 0., 0., ..., 0., 0., 0.],\n",
       "         ...,\n",
       "         [0., 0., 0., ..., 0., 0., 0.],\n",
       "         [0., 0., 0., ..., 0., 0., 0.],\n",
       "         [0., 0., 0., ..., 0., 0., 0.]],\n",
       "\n",
       "        [[0., 0., 0., ..., 0., 0., 0.],\n",
       "         [0., 0., 0., ..., 0., 0., 0.],\n",
       "         [0., 0., 0., ..., 0., 0., 0.],\n",
       "         ...,\n",
       "         [0., 0., 0., ..., 0., 0., 0.],\n",
       "         [0., 0., 0., ..., 0., 0., 0.],\n",
       "         [0., 0., 0., ..., 0., 0., 0.]]]])"
      ]
     },
     "execution_count": 41,
     "metadata": {},
     "output_type": "execute_result"
    }
   ],
   "source": [
    "block[vc[:].T]"
   ]
  },
  {
   "cell_type": "code",
   "execution_count": 396,
   "metadata": {},
   "outputs": [
    {
     "data": {
      "text/plain": [
       "(1.25, 0.0, -0.25)"
      ]
     },
     "execution_count": 396,
     "metadata": {},
     "output_type": "execute_result"
    }
   ],
   "source": [
    "vertices=np.array([[0,0,-1],\n",
    "                   [0,1,0],\n",
    "                   [0,0,1]])\n",
    "find_nearest_point_on_triangle(point,vertices)"
   ]
  },
  {
   "cell_type": "code",
   "execution_count": 310,
   "metadata": {},
   "outputs": [
    {
     "ename": "TypeError",
     "evalue": "unsupported operand type(s) for -: 'NoneType' and 'float'",
     "output_type": "error",
     "traceback": [
      "\u001b[0;31m---------------------------------------------------------------------------\u001b[0m",
      "\u001b[0;31mTypeError\u001b[0m                                 Traceback (most recent call last)",
      "\u001b[0;32m<ipython-input-310-f70b4cffce65>\u001b[0m in \u001b[0;36m<module>\u001b[0;34m\u001b[0m\n\u001b[1;32m      7\u001b[0m \u001b[0;32mfor\u001b[0m \u001b[0mk\u001b[0m \u001b[0;32min\u001b[0m \u001b[0mrange\u001b[0m\u001b[0;34m(\u001b[0m\u001b[0;36m101\u001b[0m\u001b[0;34m)\u001b[0m\u001b[0;34m:\u001b[0m\u001b[0;34m\u001b[0m\u001b[0;34m\u001b[0m\u001b[0m\n\u001b[1;32m      8\u001b[0m     \u001b[0mtriangle\u001b[0m\u001b[0;34m=\u001b[0m\u001b[0mprism1\u001b[0m\u001b[0;34m[\u001b[0m\u001b[0;34m'g_triangle'\u001b[0m\u001b[0;34m]\u001b[0m\u001b[0;34m+\u001b[0m\u001b[0mvector\u001b[0m\u001b[0;34m*\u001b[0m\u001b[0mk\u001b[0m\u001b[0;34m\u001b[0m\u001b[0;34m\u001b[0m\u001b[0m\n\u001b[0;32m----> 9\u001b[0;31m     \u001b[0mdepths\u001b[0m\u001b[0;34m.\u001b[0m\u001b[0mappend\u001b[0m\u001b[0;34m(\u001b[0m\u001b[0mget_exact_depth\u001b[0m\u001b[0;34m(\u001b[0m\u001b[0mtriangle\u001b[0m\u001b[0;34m[\u001b[0m\u001b[0;36m0\u001b[0m\u001b[0;34m]\u001b[0m\u001b[0;34m,\u001b[0m\u001b[0mprism1\u001b[0m\u001b[0;34m)\u001b[0m\u001b[0;34m-\u001b[0m\u001b[0mk\u001b[0m\u001b[0;34m/\u001b[0m\u001b[0;36m100\u001b[0m\u001b[0;34m)\u001b[0m\u001b[0;34m\u001b[0m\u001b[0;34m\u001b[0m\u001b[0m\n\u001b[0m\u001b[1;32m     10\u001b[0m     \u001b[0;31m#normals[k]=np.cross(triangle[1]-triangle[0],triangle[2]-triangle[0])/np.linalg.norm(np.cross(triangle[1]-triangle[0],triangle[2]-triangle[0]))\u001b[0m\u001b[0;34m\u001b[0m\u001b[0;34m\u001b[0m\u001b[0;34m\u001b[0m\u001b[0m\n\u001b[1;32m     11\u001b[0m \u001b[0;34m\u001b[0m\u001b[0m\n",
      "\u001b[0;31mTypeError\u001b[0m: unsupported operand type(s) for -: 'NoneType' and 'float'"
     ]
    }
   ],
   "source": [
    "ind=np.random.randint(0,len(w_surf['faces']))\n",
    "triangle=w_surf['faces'][ind]\n",
    "prism1=generate_prism(g_surf['coords'], w_surf['coords'],triangle)\n",
    "vector= (prism1['w_triangle']-prism1['g_triangle'])/100\n",
    "normals=np.zeros((101,3))\n",
    "depths=[]\n",
    "for k in range(101):\n",
    "    triangle=prism1['g_triangle']+vector*k\n",
    "    depths.append(get_exact_depth(triangle[0],prism1)-k/100)\n",
    "    #normals[k]=np.cross(triangle[1]-triangle[0],triangle[2]-triangle[0])/np.linalg.norm(np.cross(triangle[1]-triangle[0],triangle[2]-triangle[0]))\n",
    "    \n",
    "norm_diff=(normals[-1]-normals[0])/99\n",
    "interpolated_normals=np.vstack((np.arange(100),np.arange(100),np.arange(100))).T*norm_diff+normals[0]\n"
   ]
  },
  {
   "cell_type": "code",
   "execution_count": 330,
   "metadata": {},
   "outputs": [],
   "source": [
    "depths=[]\n",
    "for k in range(101):\n",
    "    triangle=prism1['g_triangle']+vector*k\n",
    "    depths.append(get_exact_depth(triangle[0],prism1)-k/100)\n",
    "  "
   ]
  },
  {
   "cell_type": "code",
   "execution_count": 316,
   "metadata": {},
   "outputs": [
    {
     "name": "stdout",
     "output_type": "stream",
     "text": [
      "[[-20.1391   59.8926    7.51876]\n",
      " [-20.2672   60.1381    7.26101]\n",
      " [-20.3738   60.5669    7.84611]] [[-18.7694   61.1509    7.11433]\n",
      " [-18.9147   61.3576    6.7782 ]\n",
      " [-18.7677   61.5546    7.82171]]\n"
     ]
    }
   ],
   "source": [
    "print(prism1['w_triangle'],prism1['g_triangle'])"
   ]
  },
  {
   "cell_type": "code",
   "execution_count": 331,
   "metadata": {},
   "outputs": [
    {
     "data": {
      "text/plain": [
       "[array([0.]),\n",
       " array([0.]),\n",
       " array([0.]),\n",
       " array([0.]),\n",
       " array([0.]),\n",
       " array([0.]),\n",
       " array([0.]),\n",
       " array([0.]),\n",
       " array([0.]),\n",
       " array([0.]),\n",
       " array([0.]),\n",
       " array([0.]),\n",
       " array([0.]),\n",
       " array([0.]),\n",
       " array([0.]),\n",
       " array([0.]),\n",
       " array([0.]),\n",
       " array([0.]),\n",
       " array([0.]),\n",
       " array([0.]),\n",
       " array([0.]),\n",
       " array([0.]),\n",
       " array([0.]),\n",
       " array([0.]),\n",
       " array([0.]),\n",
       " array([0.]),\n",
       " array([0.]),\n",
       " array([0.]),\n",
       " array([0.]),\n",
       " array([0.]),\n",
       " array([0.]),\n",
       " array([0.]),\n",
       " array([0.]),\n",
       " array([0.]),\n",
       " array([0.]),\n",
       " array([0.]),\n",
       " array([0.]),\n",
       " array([0.]),\n",
       " array([0.]),\n",
       " array([0.]),\n",
       " array([0.]),\n",
       " array([0.]),\n",
       " array([0.]),\n",
       " array([0.]),\n",
       " array([0.]),\n",
       " array([0.]),\n",
       " array([0.]),\n",
       " array([0.]),\n",
       " array([0.]),\n",
       " array([0.]),\n",
       " array([0.]),\n",
       " array([0.]),\n",
       " array([0.]),\n",
       " array([0.]),\n",
       " array([0.]),\n",
       " array([0.]),\n",
       " array([0.]),\n",
       " array([0.]),\n",
       " array([0.]),\n",
       " array([0.]),\n",
       " array([0.]),\n",
       " array([0.]),\n",
       " array([0.]),\n",
       " array([0.]),\n",
       " array([0.]),\n",
       " array([0.]),\n",
       " array([0.]),\n",
       " array([0.]),\n",
       " array([0.]),\n",
       " array([0.]),\n",
       " array([0.]),\n",
       " array([0.]),\n",
       " array([0.]),\n",
       " array([0.]),\n",
       " array([0.]),\n",
       " array([0.]),\n",
       " array([0.]),\n",
       " array([0.]),\n",
       " array([0.]),\n",
       " array([0.]),\n",
       " array([0.]),\n",
       " array([0.]),\n",
       " array([0.]),\n",
       " array([0.]),\n",
       " array([0.]),\n",
       " array([0.]),\n",
       " array([0.]),\n",
       " array([0.]),\n",
       " array([0.]),\n",
       " array([0.]),\n",
       " array([0.]),\n",
       " array([0.]),\n",
       " array([0.]),\n",
       " array([0.]),\n",
       " array([0.]),\n",
       " array([0.]),\n",
       " array([0.]),\n",
       " array([0.]),\n",
       " array([0.]),\n",
       " array([0.]),\n",
       " array([0.])]"
      ]
     },
     "execution_count": 331,
     "metadata": {},
     "output_type": "execute_result"
    }
   ],
   "source": [
    "depths"
   ]
  },
  {
   "cell_type": "code",
   "execution_count": 329,
   "metadata": {},
   "outputs": [
    {
     "data": {
      "text/plain": [
       "[<matplotlib.lines.Line2D at 0x7f0194096f10>]"
      ]
     },
     "execution_count": 329,
     "metadata": {},
     "output_type": "execute_result"
    },
    {
     "data": {
      "image/png": "[encoded data removed]",
      "text/plain": [
       "<Figure size 432x288 with 1 Axes>"
      ]
     },
     "metadata": {
      "needs_background": "light"
     },
     "output_type": "display_data"
    }
   ],
   "source": [
    "plt.plot(depths)"
   ]
  },
  {
   "cell_type": "code",
   "execution_count": 107,
   "metadata": {},
   "outputs": [
    {
     "name": "stdout",
     "output_type": "stream",
     "text": [
      "[[-49.1209    3.24894   1.62829]\n",
      " [-48.4635    2.99372   2.27014]\n",
      " [-49.0948    3.41248   1.74374]] [[-49.1209    3.24894   1.62829]\n",
      " [-48.4635    2.99372   2.27014]\n",
      " [-49.0948    3.41248   1.74374]]\n"
     ]
    }
   ],
   "source": [
    "print(triangle,prism['w_triangle'])"
   ]
  },
  {
   "cell_type": "code",
   "execution_count": 128,
   "metadata": {},
   "outputs": [
    {
     "name": "stdout",
     "output_type": "stream",
     "text": [
      "[-0.50795972 -0.44802018  0.35725182]\n"
     ]
    }
   ],
   "source": [
    "gray_inplane_vectors = np.array([prism['g_triangle'][2]-prism['g_triangle'][0],\n",
    "                                     prism['g_triangle'][1]-prism['g_triangle'][0]])\n",
    "cross_product_gray_inplane_vectors = np.cross(gray_inplane_vectors[1],gray_inplane_vectors[0])\n"
   ]
  },
  {
   "cell_type": "code",
   "execution_count": 326,
   "metadata": {},
   "outputs": [],
   "source": []
  },
  {
   "cell_type": "code",
   "execution_count": 194,
   "metadata": {},
   "outputs": [
    {
     "data": {
      "text/plain": [
       "array([-9.8494868 , -0.20247424,  0.11722493])"
      ]
     },
     "execution_count": 194,
     "metadata": {},
     "output_type": "execute_result"
    }
   ],
   "source": [
    "get_exact_depth(triangle[0],prism1)"
   ]
  },
  {
   "cell_type": "code",
   "execution_count": 187,
   "metadata": {},
   "outputs": [
    {
     "data": {
      "text/plain": [
       "26.176639646103254"
      ]
     },
     "execution_count": 187,
     "metadata": {},
     "output_type": "execute_result"
    }
   ],
   "source": [
    "np.dot(cross_product_gray_inplane_vectors,g3-voxel_coord)"
   ]
  },
  {
   "cell_type": "code",
   "execution_count": 188,
   "metadata": {},
   "outputs": [
    {
     "data": {
      "text/plain": [
       "26.176639646103254"
      ]
     },
     "execution_count": 188,
     "metadata": {},
     "output_type": "execute_result"
    }
   ],
   "source": [
    "np.dot(cross_product_gray_inplane_vectors,g3)+ -np.dot(cross_product_gray_inplane_vectors,voxel_coord)"
   ]
  },
  {
   "cell_type": "code",
   "execution_count": 181,
   "metadata": {},
   "outputs": [
    {
     "data": {
      "text/plain": [
       "(0.5476650386412156+0j)"
      ]
     },
     "execution_count": 181,
     "metadata": {},
     "output_type": "execute_result"
    }
   ],
   "source": [
    "np.roots([k0,k1,k2,k3])[0]"
   ]
  },
  {
   "cell_type": "code",
   "execution_count": 64,
   "metadata": {},
   "outputs": [
    {
     "data": {
      "text/plain": [
       "array([-0.00097954, -0.05834028,  0.03905579])"
      ]
     },
     "execution_count": 64,
     "metadata": {},
     "output_type": "execute_result"
    }
   ],
   "source": [
    "#ToDo, check for specific ks.\n",
    "np.cross(connecting_inplane_vectors[0],connecting_inplane_vectors[1])"
   ]
  },
  {
   "cell_type": "code",
   "execution_count": 53,
   "metadata": {},
   "outputs": [
    {
     "data": {
      "text/plain": [
       "<matplotlib.collections.PathCollection at 0x7f0197267510>"
      ]
     },
     "execution_count": 53,
     "metadata": {},
     "output_type": "execute_result"
    },
    {
     "data": {
      "image/png": "[encoded data removed]",
      "text/plain": [
       "<Figure size 360x720 with 3 Axes>"
      ]
     },
     "metadata": {
      "needs_background": "light"
     },
     "output_type": "display_data"
    }
   ],
   "source": [
    "import matplotlib.pyplot as plt\n",
    "%matplotlib inline\n",
    "plt.figure(figsize=(5,10))\n",
    "plt.subplot(3,1,1)\n",
    "plt.scatter(np.arange(100),normals[:,0])\n",
    "plt.subplot(3,1,2)\n",
    "plt.scatter(np.arange(100),normals[:,1])\n",
    "plt.subplot(3,1,3)\n",
    "plt.scatter(np.arange(100),normals[:,2])"
   ]
  },
  {
   "cell_type": "code",
   "execution_count": 122,
   "metadata": {},
   "outputs": [],
   "source": [
    "\n",
    "world_coords, voxel_coords= voxel_world_coords_in_box(bbox,origin_offset, resolution, dimensions)"
   ]
  },
  {
   "cell_type": "code",
   "execution_count": 123,
   "metadata": {},
   "outputs": [
    {
     "data": {
      "text/plain": [
       "array([[[[589, 632, 632],\n",
       "         [590, 632, 632],\n",
       "         [591, 632, 632],\n",
       "         [592, 632, 632],\n",
       "         [593, 632, 632],\n",
       "         [594, 632, 632],\n",
       "         [595, 632, 632],\n",
       "         [596, 632, 632],\n",
       "         [597, 632, 632],\n",
       "         [598, 632, 632],\n",
       "         [599, 632, 632],\n",
       "         [600, 632, 632],\n",
       "         [601, 632, 632],\n",
       "         [602, 632, 632],\n",
       "         [603, 632, 632],\n",
       "         [604, 632, 632],\n",
       "         [605, 632, 632],\n",
       "         [606, 632, 632],\n",
       "         [607, 632, 632],\n",
       "         [608, 632, 632],\n",
       "         [609, 632, 632],\n",
       "         [610, 632, 632]]]])"
      ]
     },
     "execution_count": 123,
     "metadata": {},
     "output_type": "execute_result"
    }
   ],
   "source": [
    "voxel_coords"
   ]
  },
  {
   "cell_type": "code",
   "execution_count": 53,
   "metadata": {},
   "outputs": [
    {
     "data": {
      "text/plain": [
       "array([548., 461., 732.])"
      ]
     },
     "execution_count": 53,
     "metadata": {},
     "output_type": "execute_result"
    }
   ],
   "source": [
    "\n",
    "np.ceil((bbox[0]-origin_offset)/resolution)\n",
    "np.floor((bbox[1]-origin_offset)/resolution)"
   ]
  },
  {
   "cell_type": "code",
   "execution_count": 57,
   "metadata": {},
   "outputs": [],
   "source": [
    "indices_max = np.max((np.min((np.floor((bbox[1]- origin_offset)/resolution), dimensions), axis=0),[0,0,0]), axis=0)\n",
    "indices_min = np.min((np.max((np.ceil((bbox[0] - origin_offset)/resolution),[0,0,0]),axis=0),dimensions),axis=0)\n"
   ]
  },
  {
   "cell_type": "code",
   "execution_count": 63,
   "metadata": {},
   "outputs": [
    {
     "ename": "AttributeError",
     "evalue": "'numpy.ndarray' object has no attribute 'step'",
     "output_type": "error",
     "traceback": [
      "\u001b[0;31m---------------------------------------------------------------------------\u001b[0m",
      "\u001b[0;31mAttributeError\u001b[0m                            Traceback (most recent call last)",
      "\u001b[0;32m<ipython-input-63-0dab2d340d36>\u001b[0m in \u001b[0;36m<module>\u001b[0;34m\u001b[0m\n\u001b[0;32m----> 1\u001b[0;31m \u001b[0mnp\u001b[0m\u001b[0;34m.\u001b[0m\u001b[0mmgrid\u001b[0m\u001b[0;34m[\u001b[0m\u001b[0mindices_max\u001b[0m\u001b[0;34m,\u001b[0m\u001b[0mindices_min\u001b[0m\u001b[0;34m]\u001b[0m\u001b[0;34m\u001b[0m\u001b[0;34m\u001b[0m\u001b[0m\n\u001b[0m",
      "\u001b[0;32m~/anaconda2/envs/padl/lib/python3.7/site-packages/numpy/lib/index_tricks.py\u001b[0m in \u001b[0;36m__getitem__\u001b[0;34m(self, key)\u001b[0m\n\u001b[1;32m    150\u001b[0m             \u001b[0mtyp\u001b[0m \u001b[0;34m=\u001b[0m \u001b[0mint\u001b[0m\u001b[0;34m\u001b[0m\u001b[0;34m\u001b[0m\u001b[0m\n\u001b[1;32m    151\u001b[0m             \u001b[0;32mfor\u001b[0m \u001b[0mk\u001b[0m \u001b[0;32min\u001b[0m \u001b[0mrange\u001b[0m\u001b[0;34m(\u001b[0m\u001b[0mlen\u001b[0m\u001b[0;34m(\u001b[0m\u001b[0mkey\u001b[0m\u001b[0;34m)\u001b[0m\u001b[0;34m)\u001b[0m\u001b[0;34m:\u001b[0m\u001b[0;34m\u001b[0m\u001b[0;34m\u001b[0m\u001b[0m\n\u001b[0;32m--> 152\u001b[0;31m                 \u001b[0mstep\u001b[0m \u001b[0;34m=\u001b[0m \u001b[0mkey\u001b[0m\u001b[0;34m[\u001b[0m\u001b[0mk\u001b[0m\u001b[0;34m]\u001b[0m\u001b[0;34m.\u001b[0m\u001b[0mstep\u001b[0m\u001b[0;34m\u001b[0m\u001b[0;34m\u001b[0m\u001b[0m\n\u001b[0m\u001b[1;32m    153\u001b[0m                 \u001b[0mstart\u001b[0m \u001b[0;34m=\u001b[0m \u001b[0mkey\u001b[0m\u001b[0;34m[\u001b[0m\u001b[0mk\u001b[0m\u001b[0;34m]\u001b[0m\u001b[0;34m.\u001b[0m\u001b[0mstart\u001b[0m\u001b[0;34m\u001b[0m\u001b[0;34m\u001b[0m\u001b[0m\n\u001b[1;32m    154\u001b[0m                 \u001b[0;32mif\u001b[0m \u001b[0mstart\u001b[0m \u001b[0;32mis\u001b[0m \u001b[0;32mNone\u001b[0m\u001b[0;34m:\u001b[0m\u001b[0;34m\u001b[0m\u001b[0;34m\u001b[0m\u001b[0m\n",
      "\u001b[0;31mAttributeError\u001b[0m: 'numpy.ndarray' object has no attribute 'step'"
     ]
    }
   ],
   "source": [
    "np.mgrid[indices_max,indices_min]"
   ]
  },
  {
   "cell_type": "code",
   "execution_count": 69,
   "metadata": {},
   "outputs": [
    {
     "data": {
      "text/plain": [
       "array([[[[538., 446., 446.],\n",
       "         [539., 446., 446.],\n",
       "         [540., 446., 446.],\n",
       "         ...,\n",
       "         [545., 446., 446.],\n",
       "         [546., 446., 446.],\n",
       "         [547., 446., 446.]],\n",
       "\n",
       "        [[538., 447., 446.],\n",
       "         [539., 447., 446.],\n",
       "         [540., 447., 446.],\n",
       "         ...,\n",
       "         [545., 447., 446.],\n",
       "         [546., 447., 446.],\n",
       "         [547., 447., 446.]],\n",
       "\n",
       "        [[538., 448., 446.],\n",
       "         [539., 448., 446.],\n",
       "         [540., 448., 446.],\n",
       "         ...,\n",
       "         [545., 448., 446.],\n",
       "         [546., 448., 446.],\n",
       "         [547., 448., 446.]],\n",
       "\n",
       "        ...,\n",
       "\n",
       "        [[538., 458., 446.],\n",
       "         [539., 458., 446.],\n",
       "         [540., 458., 446.],\n",
       "         ...,\n",
       "         [545., 458., 446.],\n",
       "         [546., 458., 446.],\n",
       "         [547., 458., 446.]],\n",
       "\n",
       "        [[538., 459., 446.],\n",
       "         [539., 459., 446.],\n",
       "         [540., 459., 446.],\n",
       "         ...,\n",
       "         [545., 459., 446.],\n",
       "         [546., 459., 446.],\n",
       "         [547., 459., 446.]],\n",
       "\n",
       "        [[538., 460., 446.],\n",
       "         [539., 460., 446.],\n",
       "         [540., 460., 446.],\n",
       "         ...,\n",
       "         [545., 460., 446.],\n",
       "         [546., 460., 446.],\n",
       "         [547., 460., 446.]]],\n",
       "\n",
       "\n",
       "       [[[538., 446., 447.],\n",
       "         [539., 446., 447.],\n",
       "         [540., 446., 447.],\n",
       "         ...,\n",
       "         [545., 446., 447.],\n",
       "         [546., 446., 447.],\n",
       "         [547., 446., 447.]],\n",
       "\n",
       "        [[538., 447., 447.],\n",
       "         [539., 447., 447.],\n",
       "         [540., 447., 447.],\n",
       "         ...,\n",
       "         [545., 447., 447.],\n",
       "         [546., 447., 447.],\n",
       "         [547., 447., 447.]],\n",
       "\n",
       "        [[538., 448., 447.],\n",
       "         [539., 448., 447.],\n",
       "         [540., 448., 447.],\n",
       "         ...,\n",
       "         [545., 448., 447.],\n",
       "         [546., 448., 447.],\n",
       "         [547., 448., 447.]],\n",
       "\n",
       "        ...,\n",
       "\n",
       "        [[538., 458., 447.],\n",
       "         [539., 458., 447.],\n",
       "         [540., 458., 447.],\n",
       "         ...,\n",
       "         [545., 458., 447.],\n",
       "         [546., 458., 447.],\n",
       "         [547., 458., 447.]],\n",
       "\n",
       "        [[538., 459., 447.],\n",
       "         [539., 459., 447.],\n",
       "         [540., 459., 447.],\n",
       "         ...,\n",
       "         [545., 459., 447.],\n",
       "         [546., 459., 447.],\n",
       "         [547., 459., 447.]],\n",
       "\n",
       "        [[538., 460., 447.],\n",
       "         [539., 460., 447.],\n",
       "         [540., 460., 447.],\n",
       "         ...,\n",
       "         [545., 460., 447.],\n",
       "         [546., 460., 447.],\n",
       "         [547., 460., 447.]]],\n",
       "\n",
       "\n",
       "       [[[538., 446., 448.],\n",
       "         [539., 446., 448.],\n",
       "         [540., 446., 448.],\n",
       "         ...,\n",
       "         [545., 446., 448.],\n",
       "         [546., 446., 448.],\n",
       "         [547., 446., 448.]],\n",
       "\n",
       "        [[538., 447., 448.],\n",
       "         [539., 447., 448.],\n",
       "         [540., 447., 448.],\n",
       "         ...,\n",
       "         [545., 447., 448.],\n",
       "         [546., 447., 448.],\n",
       "         [547., 447., 448.]],\n",
       "\n",
       "        [[538., 448., 448.],\n",
       "         [539., 448., 448.],\n",
       "         [540., 448., 448.],\n",
       "         ...,\n",
       "         [545., 448., 448.],\n",
       "         [546., 448., 448.],\n",
       "         [547., 448., 448.]],\n",
       "\n",
       "        ...,\n",
       "\n",
       "        [[538., 458., 448.],\n",
       "         [539., 458., 448.],\n",
       "         [540., 458., 448.],\n",
       "         ...,\n",
       "         [545., 458., 448.],\n",
       "         [546., 458., 448.],\n",
       "         [547., 458., 448.]],\n",
       "\n",
       "        [[538., 459., 448.],\n",
       "         [539., 459., 448.],\n",
       "         [540., 459., 448.],\n",
       "         ...,\n",
       "         [545., 459., 448.],\n",
       "         [546., 459., 448.],\n",
       "         [547., 459., 448.]],\n",
       "\n",
       "        [[538., 460., 448.],\n",
       "         [539., 460., 448.],\n",
       "         [540., 460., 448.],\n",
       "         ...,\n",
       "         [545., 460., 448.],\n",
       "         [546., 460., 448.],\n",
       "         [547., 460., 448.]]],\n",
       "\n",
       "\n",
       "       ...,\n",
       "\n",
       "\n",
       "       [[[538., 446., 458.],\n",
       "         [539., 446., 458.],\n",
       "         [540., 446., 458.],\n",
       "         ...,\n",
       "         [545., 446., 458.],\n",
       "         [546., 446., 458.],\n",
       "         [547., 446., 458.]],\n",
       "\n",
       "        [[538., 447., 458.],\n",
       "         [539., 447., 458.],\n",
       "         [540., 447., 458.],\n",
       "         ...,\n",
       "         [545., 447., 458.],\n",
       "         [546., 447., 458.],\n",
       "         [547., 447., 458.]],\n",
       "\n",
       "        [[538., 448., 458.],\n",
       "         [539., 448., 458.],\n",
       "         [540., 448., 458.],\n",
       "         ...,\n",
       "         [545., 448., 458.],\n",
       "         [546., 448., 458.],\n",
       "         [547., 448., 458.]],\n",
       "\n",
       "        ...,\n",
       "\n",
       "        [[538., 458., 458.],\n",
       "         [539., 458., 458.],\n",
       "         [540., 458., 458.],\n",
       "         ...,\n",
       "         [545., 458., 458.],\n",
       "         [546., 458., 458.],\n",
       "         [547., 458., 458.]],\n",
       "\n",
       "        [[538., 459., 458.],\n",
       "         [539., 459., 458.],\n",
       "         [540., 459., 458.],\n",
       "         ...,\n",
       "         [545., 459., 458.],\n",
       "         [546., 459., 458.],\n",
       "         [547., 459., 458.]],\n",
       "\n",
       "        [[538., 460., 458.],\n",
       "         [539., 460., 458.],\n",
       "         [540., 460., 458.],\n",
       "         ...,\n",
       "         [545., 460., 458.],\n",
       "         [546., 460., 458.],\n",
       "         [547., 460., 458.]]],\n",
       "\n",
       "\n",
       "       [[[538., 446., 459.],\n",
       "         [539., 446., 459.],\n",
       "         [540., 446., 459.],\n",
       "         ...,\n",
       "         [545., 446., 459.],\n",
       "         [546., 446., 459.],\n",
       "         [547., 446., 459.]],\n",
       "\n",
       "        [[538., 447., 459.],\n",
       "         [539., 447., 459.],\n",
       "         [540., 447., 459.],\n",
       "         ...,\n",
       "         [545., 447., 459.],\n",
       "         [546., 447., 459.],\n",
       "         [547., 447., 459.]],\n",
       "\n",
       "        [[538., 448., 459.],\n",
       "         [539., 448., 459.],\n",
       "         [540., 448., 459.],\n",
       "         ...,\n",
       "         [545., 448., 459.],\n",
       "         [546., 448., 459.],\n",
       "         [547., 448., 459.]],\n",
       "\n",
       "        ...,\n",
       "\n",
       "        [[538., 458., 459.],\n",
       "         [539., 458., 459.],\n",
       "         [540., 458., 459.],\n",
       "         ...,\n",
       "         [545., 458., 459.],\n",
       "         [546., 458., 459.],\n",
       "         [547., 458., 459.]],\n",
       "\n",
       "        [[538., 459., 459.],\n",
       "         [539., 459., 459.],\n",
       "         [540., 459., 459.],\n",
       "         ...,\n",
       "         [545., 459., 459.],\n",
       "         [546., 459., 459.],\n",
       "         [547., 459., 459.]],\n",
       "\n",
       "        [[538., 460., 459.],\n",
       "         [539., 460., 459.],\n",
       "         [540., 460., 459.],\n",
       "         ...,\n",
       "         [545., 460., 459.],\n",
       "         [546., 460., 459.],\n",
       "         [547., 460., 459.]]],\n",
       "\n",
       "\n",
       "       [[[538., 446., 460.],\n",
       "         [539., 446., 460.],\n",
       "         [540., 446., 460.],\n",
       "         ...,\n",
       "         [545., 446., 460.],\n",
       "         [546., 446., 460.],\n",
       "         [547., 446., 460.]],\n",
       "\n",
       "        [[538., 447., 460.],\n",
       "         [539., 447., 460.],\n",
       "         [540., 447., 460.],\n",
       "         ...,\n",
       "         [545., 447., 460.],\n",
       "         [546., 447., 460.],\n",
       "         [547., 447., 460.]],\n",
       "\n",
       "        [[538., 448., 460.],\n",
       "         [539., 448., 460.],\n",
       "         [540., 448., 460.],\n",
       "         ...,\n",
       "         [545., 448., 460.],\n",
       "         [546., 448., 460.],\n",
       "         [547., 448., 460.]],\n",
       "\n",
       "        ...,\n",
       "\n",
       "        [[538., 458., 460.],\n",
       "         [539., 458., 460.],\n",
       "         [540., 458., 460.],\n",
       "         ...,\n",
       "         [545., 458., 460.],\n",
       "         [546., 458., 460.],\n",
       "         [547., 458., 460.]],\n",
       "\n",
       "        [[538., 459., 460.],\n",
       "         [539., 459., 460.],\n",
       "         [540., 459., 460.],\n",
       "         ...,\n",
       "         [545., 459., 460.],\n",
       "         [546., 459., 460.],\n",
       "         [547., 459., 460.]],\n",
       "\n",
       "        [[538., 460., 460.],\n",
       "         [539., 460., 460.],\n",
       "         [540., 460., 460.],\n",
       "         ...,\n",
       "         [545., 460., 460.],\n",
       "         [546., 460., 460.],\n",
       "         [547., 460., 460.]]]])"
      ]
     },
     "execution_count": 69,
     "metadata": {},
     "output_type": "execute_result"
    }
   ],
   "source": [
    "np.mgrid[indices_min[0]:indices_max[0],\n",
    "         indices_min[1]:indices_max[1],\n",
    "        indices_min[1]:indices_max[1]].T"
   ]
  }
 ],
 "metadata": {
  "kernelspec": {
   "display_name": "padl",
   "language": "python",
   "name": "padl"
  },
  "language_info": {
   "codemirror_mode": {
    "name": "ipython",
    "version": 3
   },
   "file_extension": ".py",
   "mimetype": "text/x-python",
   "name": "python",
   "nbconvert_exporter": "python",
   "pygments_lexer": "ipython3",
   "version": "3.7.4"
  }
 },
 "nbformat": 4,
 "nbformat_minor": 2
}
