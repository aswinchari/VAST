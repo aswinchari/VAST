{
 "cells": [
  {
   "cell_type": "code",
   "execution_count": 12,
   "metadata": {},
   "outputs": [],
   "source": [
    "import subprocess\n",
    "import glob\n",
    "import os\n",
    "import numpy as np\n",
    "import surface_tools as st"
   ]
  },
  {
   "cell_type": "code",
   "execution_count": null,
   "metadata": {},
   "outputs": [],
   "source": [
    "#mapping volume blocks to cortical surface"
   ]
  },
  {
   "cell_type": "code",
   "execution_count": 19,
   "metadata": {},
   "outputs": [],
   "source": [
    "outdir='../surface_data/area_labels'\n",
    "voldir='../volume_data/area_blocks'\n",
    "os.makedirs(outdir,exist_ok=True)\n",
    "area_blocks=sorted(glob.glob('../volume_data/area_blocks/*.mnc'))\n",
    "area_names=[]\n",
    "for ab in area_blocks:\n",
    "    ab=ab.replace('_block.mnc','')\n",
    "    ab=ab.replace('../volume_data/area_blocks/','')\n",
    "    area_names.append(ab)\n",
    "\n",
    "\n",
    "area_names=sorted(area_names)\n",
    "area_names.insert(0,'null')\n",
    "np.savetxt(os.path.join(outdir,'area_labels.txt'),area_names,fmt='%s')"
   ]
  },
  {
   "cell_type": "code",
   "execution_count": 21,
   "metadata": {},
   "outputs": [
    {
     "name": "stdout",
     "output_type": "stream",
     "text": [
      "area6d_6d1\n",
      "area6d_6d2\n",
      "area6d_6d3\n",
      "auditory_Te10\n",
      "auditory_Te11\n",
      "auditory_Te12\n",
      "auditory_Te3\n",
      "hippocampus_EC\n",
      "ifs_ifj1\n",
      "ifs_ifj2\n",
      "ifs_ifs1\n",
      "ifs_ifs2\n",
      "ifs_ifs3\n",
      "ifs_ifs4\n",
      "pIPS_hIP4\n",
      "pIPS_hIP5\n",
      "pIPS_hIP6\n",
      "pIPS_hIP7\n",
      "pIPS_hIP8\n",
      "pIPS_hOc6\n",
      "pIPS_hPO1\n",
      "sma_presma\n",
      "sma_sma\n",
      "sts_Te4\n",
      "sts_Te5\n",
      "v1\n",
      "v2\n"
     ]
    }
   ],
   "source": [
    "hemis=['right','left']\n",
    "for k,area in enumerate(area_names[1:]):\n",
    "    print(area)\n",
    "    for hemi in hemis:\n",
    "        mid_surface_name='../surface_data/obj_surfaces/mid_{}.obj'.format(hemi)\n",
    "\n",
    "        subprocess.call('volume_object_evaluate -nearest_neighbour {} {} {}'.format(os.path.join(voldir,'{}_block.mnc'.format(area)),\n",
    "                                                             mid_surface_name,\n",
    "                                                             os.path.join(outdir,'{}_{}.txt'.format(area,hemi))),shell=True)\n",
    "       \n",
    "\n",
    "  \n",
    "        \n",
    "        "
   ]
  },
  {
   "cell_type": "code",
   "execution_count": null,
   "metadata": {},
   "outputs": [
    {
     "name": "stdout",
     "output_type": "stream",
     "text": [
      "area6d_6d1\n",
      "area6d_6d2\n",
      "area6d_6d3\n",
      "auditory_Te10\n",
      "auditory_Te11\n",
      "auditory_Te12\n",
      "auditory_Te3\n",
      "hippocampus_EC\n"
     ]
    }
   ],
   "source": [
    "#tidy up individual areas\n",
    "#TODO consider whether this is necessary to do, separate from the main tidying up.\n",
    "mid_surface_name='../surface_data/obj_surfaces/mid_{}.obj'.format('left')\n",
    "neighbours=st.get_neighbours(mid_surface_name)\n",
    "hemis=['left','right']\n",
    "for k,area in enumerate(area_names[1:]):\n",
    "    print(area)\n",
    "    \n",
    "    for hemi in hemis:\n",
    "       #fill holes\n",
    "        area_txtfile=np.loadtxt(os.path.join(outdir,'{}_{}.txt'.format(area,hemi))).astype(bool)\n",
    "        tidied=st.tidy_holes_binary(area_txtfile,neighbours, threshold_area=300,iterations=2)\n",
    "        np.savetxt(os.path.join(outdir,'{}_{}_tidied.txt'.format(area,hemi)),tidied,fmt='%i')\n",
    "      "
   ]
  },
  {
   "cell_type": "code",
   "execution_count": null,
   "metadata": {},
   "outputs": [],
   "source": [
    "#combine areas into single parcellation\n",
    "reload(st)\n",
    "padl_dir='/data1/bigbrain/PADL/data/raw'\n",
    "hemis=['left','right']\n",
    "for hemi in hemis:\n",
    "    mid_surface_name='../surface_data/obj_surfaces/mid_{}.obj'.format(hemi)\n",
    "    neighbours=st.get_neighbours(mid_surface_name)\n",
    "\n",
    "    combined_areas = np.zeros(len(neighbours))\n",
    "    overlaps = np.zeros(len(neighbours)).astype(bool)\n",
    "    for k,area in enumerate(area_names[1:]):\n",
    "        print(area)\n",
    "        area_txtfile=np.loadtxt(os.path.join(outdir,'{}_{}.txt'.format(area,hemi)))\n",
    "        overlaps+= np.logical_and(area_txtfile,combined_areas)\n",
    "        combined_areas+= area_txtfile*area_names.index(area)\n",
    "    tidied_combined=st.tidy_combined_atlas(combined_areas, overlaps, neighbours,threshold=300)\n",
    "    \n",
    "    np.savetxt(os.path.join(outdir,'combined_areas_{}_tidied.txt'.format(hemi)),tidied_combined, fmt='%i')\n",
    "    np.savetxt(os.path.join(padl_dir,'combined_areas_{}_tidied.txt'.format(hemi)),tidied_combined, fmt='%i')\n"
   ]
  },
  {
   "cell_type": "code",
   "execution_count": null,
   "metadata": {},
   "outputs": [],
   "source": []
  }
 ],
 "metadata": {
  "kernelspec": {
   "display_name": "padl",
   "language": "python",
   "name": "padl"
  },
  "language_info": {
   "codemirror_mode": {
    "name": "ipython",
    "version": 3
   },
   "file_extension": ".py",
   "mimetype": "text/x-python",
   "name": "python",
   "nbconvert_exporter": "python",
   "pygments_lexer": "ipython3",
   "version": "3.7.4"
  }
 },
 "nbformat": 4,
 "nbformat_minor": 2
}
