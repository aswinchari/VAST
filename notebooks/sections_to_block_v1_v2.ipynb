{
 "cells": [
  {
   "cell_type": "code",
   "execution_count": 1,
   "metadata": {},
   "outputs": [],
   "source": [
    "import wget\n",
    "from zipfile import ZipFile\n",
    "import glob\n",
    "import os\n",
    "from PIL import Image\n",
    "import numpy as np\n"
   ]
  },
  {
   "cell_type": "code",
   "execution_count": null,
   "metadata": {},
   "outputs": [],
   "source": [
    "## Script to generate blocks for V1 and V2. Separate as they are on Knowledge Graph"
   ]
  },
  {
   "cell_type": "code",
   "execution_count": 2,
   "metadata": {},
   "outputs": [],
   "source": [
    "\n",
    "\n",
    "url = 'https://object.cscs.ch/v1/AUTH_227176556f3c4bb38df9feea4b91200c/hbp-d002272_BigBrainCytoMapping-v1-v2_pub/Deep-Learning/v1/2019_05_01_v1_masks.zip'"
   ]
  },
  {
   "cell_type": "code",
   "execution_count": 3,
   "metadata": {},
   "outputs": [],
   "source": [
    "volume_dir='../volume_data/'"
   ]
  },
  {
   "cell_type": "code",
   "execution_count": 4,
   "metadata": {},
   "outputs": [
    {
     "data": {
      "text/plain": [
       "'../volume_data//2019_05_01_v1_masks (1).zip'"
      ]
     },
     "execution_count": 4,
     "metadata": {},
     "output_type": "execute_result"
    }
   ],
   "source": [
    "wget.download(url,volume_dir)"
   ]
  },
  {
   "cell_type": "code",
   "execution_count": 5,
   "metadata": {},
   "outputs": [],
   "source": [
    "with ZipFile('../volume_data/2019_05_01_v1_masks.zip', 'r') as zipObj:\n",
    "   # Extract all the contents of zip file in output directory\n",
    "   zipObj.extractall(volume_dir)\n"
   ]
  },
  {
   "cell_type": "code",
   "execution_count": 216,
   "metadata": {},
   "outputs": [],
   "source": [
    "paths=sorted(glob.glob(os.path.join(volume_dir,'masks/*')))\n",
    "filenames=[os.path.basename(x) for x in paths]"
   ]
  },
  {
   "cell_type": "code",
   "execution_count": 330,
   "metadata": {},
   "outputs": [
    {
     "name": "stdout",
     "output_type": "stream",
     "text": [
      "2766\n",
      "2411\n",
      "2403\n",
      "2357\n",
      "2357\n",
      "2357\n",
      "2357\n",
      "2357\n",
      "2357\n",
      "2357\n",
      "2317\n",
      "2317\n",
      "2303\n",
      "2258\n",
      "2258\n",
      "2258\n",
      "2258\n",
      "2258\n",
      "2258\n",
      "2258\n",
      "2258\n",
      "2258\n",
      "2258\n",
      "2258\n"
     ]
    }
   ],
   "source": [
    "im= Image.open(paths[0])\n",
    "width, height=im.size\n",
    "grid_x,grid_y=np.meshgrid(np.arange(width),np.arange(height))\n",
    "#get block dimensions\n",
    "y_length=len(paths)\n",
    "overall_xmin,overall_ymin,overall_xmax,overall_ymax = [np.inf,np.inf,0,0]\n",
    "skips=100\n",
    "for p in range(round(len(paths)/skips)):\n",
    "    im= Image.open(paths[p*skips]).convert('1')\n",
    "    xmin,ymin,xmax,ymax=im.getbbox()\n",
    "    overall_xmin = min(overall_xmin, xmin)\n",
    "    overall_ymin = min(overall_ymin, ymin)\n",
    "    overall_xmax = max(overall_xmax, xmax)\n",
    "    overall_ymax = max(overall_ymax, ymax)\n",
    "    \n",
    "#add margin of 20 pixels\n",
    "margin=20\n",
    "overall_xmin,overall_ymin,overall_xmax,overall_ymax = [overall_xmin,overall_ymin,overall_xmax,overall_ymax] + np.array([-margin,-margin,margin,margin])"
   ]
  },
  {
   "cell_type": "code",
   "execution_count": 260,
   "metadata": {},
   "outputs": [],
   "source": [
    "#set amount we want to scale down by. \n",
    "scaling_down=5\n",
    "#dimorder is y, z x for bigbrain\n",
    "\n",
    "dimensions_full_res = np.array([y_length, overall_ymax-overall_ymin, overall_xmax-overall_xmin])\n",
    "#downscaled dimensions, rounded down\n",
    "scaled_dimensions = np.floor(dimensions_full_res /scaling_down).astype(int)\n",
    "#create empty block to fill with data\n",
    "block=np.zeros((scaled_dimensions.astype(int))).astype(int)"
   ]
  },
  {
   "cell_type": "code",
   "execution_count": 261,
   "metadata": {},
   "outputs": [],
   "source": [
    "for p in range(scaled_dimensions[0]):\n",
    "    im= Image.open(paths[p*scaling_down])\n",
    "    #crop image\n",
    "    cropped=im.crop((overall_xmin,overall_ymin,overall_xmax,overall_ymax))\n",
    "    scaled=cropped.resize((scaled_dimensions[2].astype(int),scaled_dimensions[1].astype(int)),Image.NEAREST).convert('1')\n",
    "    block[p]=np.array(scaled)\n",
    "\n",
    "#invert     \n",
    "block=np.flip(block,1)\n"
   ]
  },
  {
   "cell_type": "code",
   "execution_count": 350,
   "metadata": {},
   "outputs": [],
   "source": [
    "#origin should be -70.02, -58.677, -70.5666. For some reason -60 works well.\n",
    "original_origin = np.array([-70.02,-58.6777778, -70.5666667])\n",
    "start_section=int(paths[0][-8:-4])\n",
    "\n",
    "crop_shift = np.array([start_section*0.02, (height-overall_ymax)*0.021166667, overall_xmin*0.021166667])\n",
    "new_origin= original_origin + crop_shift"
   ]
  },
  {
   "cell_type": "code",
   "execution_count": 351,
   "metadata": {},
   "outputs": [],
   "source": [
    "steps=(0.02*scaling_down, 0.021166667*scaling_down, 0.021166667*scaling_down)\n",
    "out_vol = pyminc.volumeFromData(\"V1_block.mnc\", block, dimnames=(\"yspace\", \"zspace\", \"xspace\"), starts=tuple(new_origin), steps=steps, volumeType=\"uint\")\n",
    "out_vol.writeFile()    "
   ]
  }
 ],
 "metadata": {
  "kernelspec": {
   "display_name": "Python 3",
   "language": "python",
   "name": "python3"
  },
  "language_info": {
   "codemirror_mode": {
    "name": "ipython",
    "version": 3
   },
   "file_extension": ".py",
   "mimetype": "text/x-python",
   "name": "python",
   "nbconvert_exporter": "python",
   "pygments_lexer": "ipython3",
   "version": "3.7.3"
  }
 },
 "nbformat": 4,
 "nbformat_minor": 2
}
