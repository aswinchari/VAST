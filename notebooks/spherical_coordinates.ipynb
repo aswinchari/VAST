{
 "cells": [
  {
   "cell_type": "code",
   "execution_count": 10,
   "metadata": {},
   "outputs": [],
   "source": [
    "import numpy as np\n",
    "import os"
   ]
  },
  {
   "cell_type": "code",
   "execution_count": 4,
   "metadata": {},
   "outputs": [],
   "source": [
    "def Spherical_np(xyz):\n",
    "    pts=np.zeros(xyz.shape)\n",
    "    xy=xyz[:,0]**2 + xyz[:,1]**2\n",
    "    pts[:,0]=np.sqrt(xy+xyz[:,2]**2)\n",
    "    pts[:,1]=np.arctan2(np.sqrt(xy),xyz[:,2])\n",
    "    pts[:,2]=np.arctan2(xyz[:,1], xyz[:,0])\n",
    "    return pts\n",
    "\n",
    "def chunks(l, n):\n",
    "    \"\"\"Yield successive n-sized chunks from l.\"\"\"\n",
    "    for i in range(0, len(l), n):\n",
    "        yield l[i:i + n]\n",
    "\n",
    "def load_surface(surfname):\n",
    "    \"\"\"Loads obj surface.\n",
    "    Returns:\n",
    "        n_vert (int, number of vertices)\n",
    "        coords, \n",
    "        normals, \n",
    "        triangles\n",
    "    \"\"\"\n",
    "    polys=[]\n",
    "    p=0\n",
    "    k=0\n",
    "    with open(surfname, 'r') as fp:\n",
    "        for i, line in enumerate(fp):\n",
    "            if i==0:\n",
    "                # Number of vertices\n",
    "                line1 = line.split()\n",
    "                n_vert = int(line1[6])\n",
    "                coords = np.zeros([ n_vert, 3])\n",
    "                norms = np.zeros([ n_vert, 3])\n",
    "            elif 0 < i < n_vert+1:\n",
    "                # get coordinates\n",
    "                coords[ i-1 ] = list(map( float, line.split() ))\n",
    "            elif n_vert+1 < i < 2*n_vert + 2:\n",
    "                # get normals (we just write them back out, not recomputing)\n",
    "                norms[p]=line.split()\n",
    "                p+=1\n",
    "            elif i==2*n_vert+3:\n",
    "                # get number of polygons. Not needed any more\n",
    "                n_poly=int(line)\n",
    "            elif i==2*n_vert+4:\n",
    "                # get colour info\n",
    "                col=line\n",
    "            elif i>2*n_vert+5 and k==0:\n",
    "                if not line.strip():\n",
    "                    k=1\n",
    "            elif k==1:\n",
    "                # get polygons\n",
    "                polys.extend(line.split())\n",
    "    polys = list(map(int,polys))\n",
    "    tris = list(chunks(polys,3))\n",
    "    return n_vert, coords, norms, tris;\n"
   ]
  },
  {
   "cell_type": "code",
   "execution_count": 5,
   "metadata": {},
   "outputs": [],
   "source": [
    "sphere_file='../surface_data/obj_surfaces/sphere.obj'"
   ]
  },
  {
   "cell_type": "code",
   "execution_count": 6,
   "metadata": {},
   "outputs": [],
   "source": [
    "d,xyz,d,d=load_surface(sphere_file)"
   ]
  },
  {
   "cell_type": "code",
   "execution_count": 7,
   "metadata": {},
   "outputs": [],
   "source": [
    "angles=Spherical_np(xyz)"
   ]
  },
  {
   "cell_type": "code",
   "execution_count": 12,
   "metadata": {},
   "outputs": [],
   "source": [
    "os.makedirs(os.path.join('../surface_data/coordinates/'))\n",
    "np.savetxt(os.path.join('../surface_data/coordinates/','angle1.txt'),angles[:,1],fmt='%.2f')\n",
    "np.savetxt(os.path.join('../surface_data/coordinates/','angle2.txt'),angles[:,2],fmt='%.2f')\n"
   ]
  },
  {
   "cell_type": "code",
   "execution_count": null,
   "metadata": {},
   "outputs": [],
   "source": []
  }
 ],
 "metadata": {
  "kernelspec": {
   "display_name": "Python [conda env:vast] *",
   "language": "python",
   "name": "conda-env-vast-py"
  },
  "language_info": {
   "codemirror_mode": {
    "name": "ipython",
    "version": 3
   },
   "file_extension": ".py",
   "mimetype": "text/x-python",
   "name": "python",
   "nbconvert_exporter": "python",
   "pygments_lexer": "ipython3",
   "version": "3.7.3"
  }
 },
 "nbformat": 4,
 "nbformat_minor": 2
}
