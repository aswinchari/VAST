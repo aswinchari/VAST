{
 "cells": [
  {
   "cell_type": "code",
   "execution_count": 13,
   "metadata": {},
   "outputs": [],
   "source": [
    "import os\n",
    "from vast import io_mesh\n",
    "from surface_tools import spherical_np\n",
    "import numpy as np"
   ]
  },
  {
   "cell_type": "code",
   "execution_count": 14,
   "metadata": {},
   "outputs": [],
   "source": [
    "#generate spherical coordinates for rsl-resolution sphere.\n",
    "#option instead of inflated coordinates"
   ]
  },
  {
   "cell_type": "code",
   "execution_count": 15,
   "metadata": {},
   "outputs": [],
   "source": [
    "sphere_file='../surface_data/obj_surfaces/sphere.obj'"
   ]
  },
  {
   "cell_type": "code",
   "execution_count": 16,
   "metadata": {},
   "outputs": [],
   "source": [
    "sphere=io_mesh.load_mesh_geometry(sphere_file)"
   ]
  },
  {
   "cell_type": "code",
   "execution_count": 17,
   "metadata": {},
   "outputs": [],
   "source": [
    "angles=spherical_np(sphere['coords'])"
   ]
  },
  {
   "cell_type": "code",
   "execution_count": 29,
   "metadata": {},
   "outputs": [],
   "source": [
    "os.makedirs(os.path.join('../surface_data/coordinates/'), exist_ok=True)\n",
    "np.savetxt(os.path.join('../surface_data/coordinates/','angles.txt'),angles,fmt='%.2f')\n",
    "#save a copy in raw\n",
    "np.savetxt(os.path.join('../../PADL/data/raw','angles.txt'),angles[:,1:],fmt='%.2f')\n"
   ]
  }
 ],
 "metadata": {
  "kernelspec": {
   "display_name": "padl",
   "language": "python",
   "name": "padl"
  },
  "language_info": {
   "codemirror_mode": {
    "name": "ipython",
    "version": 3
   },
   "file_extension": ".py",
   "mimetype": "text/x-python",
   "name": "python",
   "nbconvert_exporter": "python",
   "pygments_lexer": "ipython3",
   "version": "3.7.4"
  }
 },
 "nbformat": 4,
 "nbformat_minor": 2
}
