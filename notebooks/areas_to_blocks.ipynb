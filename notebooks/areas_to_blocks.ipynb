{
 "cells": [
  {
   "cell_type": "code",
   "execution_count": 1,
   "metadata": {},
   "outputs": [],
   "source": [
    "import os\n",
    "import glob\n",
    "from volume_tools import blockify_from_hdf5\n",
    "\n"
   ]
  },
  {
   "cell_type": "code",
   "execution_count": 2,
   "metadata": {},
   "outputs": [],
   "source": [
    "hdf5_dir='../volume_data/merged/'\n",
    "hdf5_filenames=sorted(glob.glob(os.path.join(hdf5_dir,'*.hdf5')))"
   ]
  },
  {
   "cell_type": "code",
   "execution_count": null,
   "metadata": {},
   "outputs": [
    {
     "name": "stdout",
     "output_type": "stream",
     "text": [
      "generating block for area: area6d_6d1\n",
      "generating block for area: area6d_6d2\n",
      "generating block for area: area6d_6d3\n",
      "generating block for area: auditory_Te10\n",
      "generating block for area: auditory_Te11\n",
      "generating block for area: auditory_Te12\n",
      "generating block for area: auditory_Te3\n",
      "generating block for area: hippocampus_EC\n",
      "generating block for area: ifs_ifj1\n",
      "generating block for area: ifs_ifj2\n",
      "generating block for area: ifs_ifs1\n",
      "generating block for area: ifs_ifs2\n",
      "generating block for area: ifs_ifs3\n",
      "generating block for area: ifs_ifs4\n",
      "generating block for area: pIPS_hIP4\n",
      "generating block for area: pIPS_hIP5\n",
      "generating block for area: pIPS_hIP6\n",
      "generating block for area: pIPS_hIP7\n",
      "generating block for area: pIPS_hIP8\n",
      "generating block for area: pIPS_hOc6\n",
      "generating block for area: pIPS_hPO1\n",
      "generating block for area: sma_presma\n"
     ]
    }
   ],
   "source": [
    "#generate volumetric blocks from hdf5 pngs\n",
    "#margin determines the margin around the ROI in 20 um pixels\n",
    "#resolution is in um and should be a multpile of 20m. Exact resolution out of plane, approximate in plane due to weird in plane .020111 etc\n",
    "\n",
    "blockify_from_hdf5(hdf5_filenames,'../volume_data/area_blocks',margin=50,resolution=100)"
   ]
  },
  {
   "cell_type": "code",
   "execution_count": null,
   "metadata": {},
   "outputs": [],
   "source": []
  }
 ],
 "metadata": {
  "kernelspec": {
   "display_name": "Python 3",
   "language": "python",
   "name": "python3"
  },
  "language_info": {
   "codemirror_mode": {
    "name": "ipython",
    "version": 3
   },
   "file_extension": ".py",
   "mimetype": "text/x-python",
   "name": "python",
   "nbconvert_exporter": "python",
   "pygments_lexer": "ipython3",
   "version": "3.7.3"
  }
 },
 "nbformat": 4,
 "nbformat_minor": 2
}
