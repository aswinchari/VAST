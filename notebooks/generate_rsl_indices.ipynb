{
 "cells": [
  {
   "cell_type": "code",
   "execution_count": 9,
   "metadata": {},
   "outputs": [],
   "source": [
    "import surface_tools as st\n",
    "import io_mesh as io_mesh\n",
    "import os\n",
    "import numpy as np"
   ]
  },
  {
   "cell_type": "code",
   "execution_count": null,
   "metadata": {},
   "outputs": [],
   "source": [
    "#generate reference indices mapping indices on the native highres surfaces to the nearest rsl index"
   ]
  },
  {
   "cell_type": "code",
   "execution_count": 12,
   "metadata": {},
   "outputs": [],
   "source": [
    "surf_dir='../surface_data/obj_surfaces/'\n",
    "padl_dir='../../PADL/data/raw'"
   ]
  },
  {
   "cell_type": "code",
   "execution_count": 14,
   "metadata": {},
   "outputs": [
    {
     "name": "stdout",
     "output_type": "stream",
     "text": [
      "0.0% done\n",
      "7.629371248256689% done\n",
      "15.258742496513378% done\n",
      "22.888113744770067% done\n",
      "30.517484993026756% done\n",
      "38.146856241283444% done\n",
      "45.77622748954013% done\n",
      "53.40559873779682% done\n",
      "61.03496998605351% done\n",
      "68.6643412343102% done\n",
      "76.29371248256689% done\n",
      "83.92308373082358% done\n",
      "91.55245497908027% done\n",
      "99.18182622733696% done\n",
      "0.0% done\n",
      "7.629371248256689% done\n",
      "15.258742496513378% done\n",
      "22.888113744770067% done\n",
      "30.517484993026756% done\n",
      "38.146856241283444% done\n",
      "45.77622748954013% done\n",
      "53.40559873779682% done\n",
      "61.03496998605351% done\n",
      "68.6643412343102% done\n",
      "76.29371248256689% done\n",
      "83.92308373082358% done\n",
      "91.55245497908027% done\n",
      "99.18182622733696% done\n"
     ]
    }
   ],
   "source": [
    "hemis=['right','left']\n",
    "\n",
    "for hemi in hemis:\n",
    "    graysurf=os.path.join(surf_dir,'gray_{}.obj'.format(hemi))\n",
    "    whitesurf=os.path.join(surf_dir,'white_{}.obj'.format(hemi))\n",
    "    rsl_surf = io_mesh.load_mesh_geometry(os.path.join(surf_dir,'white_{}_rsl_327680.obj'.format(hemi) ))\n",
    "    mid_rsl_coords = st.create_weighted_midsurface(os.path.join(surf_dir,'gray_{}_rsl_327680.obj'.format(hemi) ),os.path.join(surf_dir,'white_{}_rsl_327680.obj'.format(hemi) ),surf_dir)\n",
    "    mid_native_coords = st.create_weighted_midsurface(graysurf, whitesurf, surf_dir)\n",
    "    rsl_indices = st.get_nearest_indices(mid_native_coords, mid_rsl_coords)\n",
    "    np.savetxt(os.path.join(padl_dir,'rsl_indices_{}.txt'.format(hemi)),rsl_indices,fmt='%i')"
   ]
  }
 ],
 "metadata": {
  "kernelspec": {
   "display_name": "padl",
   "language": "python",
   "name": "padl"
  },
  "language_info": {
   "codemirror_mode": {
    "name": "ipython",
    "version": 3
   },
   "file_extension": ".py",
   "mimetype": "text/x-python",
   "name": "python",
   "nbconvert_exporter": "python",
   "pygments_lexer": "ipython3",
   "version": "3.7.4"
  }
 },
 "nbformat": 4,
 "nbformat_minor": 2
}
